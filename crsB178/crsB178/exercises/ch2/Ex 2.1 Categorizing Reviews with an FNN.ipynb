{
 "cells": [
  {
   "cell_type": "markdown",
   "id": "70bb7978-9ca0-4c2a-a083-dff1333d7bc1",
   "metadata": {},
   "source": [
    "# Ex2.1 Categorizing Reviews with an FNN"
   ]
  },
  {
   "cell_type": "code",
   "execution_count": 1,
   "id": "f481224a-f60e-4219-9f4d-fb3798e5b2d6",
   "metadata": {},
   "outputs": [],
   "source": [
    "import time\n",
    "#Ignore the next statement -- it is just to estimate how long the exercise takes\n",
    "start = time.perf_counter()"
   ]
  },
  {
   "cell_type": "markdown",
   "id": "3373aff2-dc8f-4ec7-92aa-e98249f0b672",
   "metadata": {},
   "source": [
    "We shall use a neural network to categorize user reviews of articles in Wikipedia. The aim is to identify the reviews which contain personal attacks."
   ]
  },
  {
   "cell_type": "markdown",
   "id": "cd0d9197-a494-4002-b36e-9f208b78f8fc",
   "metadata": {},
   "source": [
    "The dataset we will use includes over 100k labeled discussion comments from English Wikipedia. Each comment was labeled by multiple annotators via Crowdflower on whether it contains a personal attack."
   ]
  },
  {
   "cell_type": "code",
   "execution_count": 2,
   "id": "cc559a31-3047-4711-be7d-c2d042e7dc42",
   "metadata": {},
   "outputs": [
    {
     "name": "stderr",
     "output_type": "stream",
     "text": [
      "[nltk_data] Downloading package stopwords to\n",
      "[nltk_data]     /home/student/nltk_data...\n",
      "[nltk_data]   Package stopwords is already up-to-date!\n",
      "[nltk_data] Downloading package punkt to /home/student/nltk_data...\n",
      "[nltk_data]   Package punkt is already up-to-date!\n"
     ]
    },
    {
     "data": {
      "text/plain": [
       "True"
      ]
     },
     "execution_count": 2,
     "metadata": {},
     "output_type": "execute_result"
    }
   ],
   "source": [
    "import pandas as pd\n",
    "import re\n",
    "import urllib\n",
    "import sklearn\n",
    "import nltk\n",
    "nltk.download('stopwords')\n",
    "nltk.download('punkt')"
   ]
  },
  {
   "cell_type": "markdown",
   "id": "a39d6c33-4520-4b40-bc1f-bc35179ab17f",
   "metadata": {},
   "source": [
    "## Loading the data\n",
    "There are two files, one with the comments and another with annotations made by reviewers as to whether the comments contain personal attacks."
   ]
  },
  {
   "cell_type": "code",
   "execution_count": 3,
   "id": "fcd368ab-5a2e-41f8-9ae5-4e7ec814e5ad",
   "metadata": {},
   "outputs": [],
   "source": [
    "comments = pd.read_csv('attack_annotated_comments.tsv', sep = '\\t', index_col = 0)\n",
    "annotations = pd.read_csv('attack_annotations.tsv',  sep = '\\t')"
   ]
  },
  {
   "cell_type": "markdown",
   "id": "8542f535-b763-4bb6-8b00-32ccc0fb864c",
   "metadata": {},
   "source": [
    "## Examining the data\n",
    "First we look at the comments dataframe."
   ]
  },
  {
   "cell_type": "code",
   "execution_count": 4,
   "id": "0cfd29eb-cc0e-47db-94f5-0fcdfe54d9df",
   "metadata": {},
   "outputs": [
    {
     "data": {
      "text/plain": [
       "Index(['comment', 'year', 'logged_in', 'ns', 'sample', 'split'], dtype='object')"
      ]
     },
     "execution_count": 4,
     "metadata": {},
     "output_type": "execute_result"
    }
   ],
   "source": [
    "comments.columns"
   ]
  },
  {
   "cell_type": "code",
   "execution_count": 5,
   "id": "1b52fc66-ca9a-4d1f-b71b-8a62baaa22ce",
   "metadata": {},
   "outputs": [
    {
     "data": {
      "text/html": [
       "<div>\n",
       "<style scoped>\n",
       "    .dataframe tbody tr th:only-of-type {\n",
       "        vertical-align: middle;\n",
       "    }\n",
       "\n",
       "    .dataframe tbody tr th {\n",
       "        vertical-align: top;\n",
       "    }\n",
       "\n",
       "    .dataframe thead th {\n",
       "        text-align: right;\n",
       "    }\n",
       "</style>\n",
       "<table border=\"1\" class=\"dataframe\">\n",
       "  <thead>\n",
       "    <tr style=\"text-align: right;\">\n",
       "      <th></th>\n",
       "      <th>comment</th>\n",
       "      <th>year</th>\n",
       "      <th>logged_in</th>\n",
       "      <th>ns</th>\n",
       "      <th>sample</th>\n",
       "      <th>split</th>\n",
       "    </tr>\n",
       "    <tr>\n",
       "      <th>rev_id</th>\n",
       "      <th></th>\n",
       "      <th></th>\n",
       "      <th></th>\n",
       "      <th></th>\n",
       "      <th></th>\n",
       "      <th></th>\n",
       "    </tr>\n",
       "  </thead>\n",
       "  <tbody>\n",
       "    <tr>\n",
       "      <th>37675</th>\n",
       "      <td>`-NEWLINE_TOKENThis is not ``creative``.  Thos...</td>\n",
       "      <td>2002</td>\n",
       "      <td>False</td>\n",
       "      <td>article</td>\n",
       "      <td>random</td>\n",
       "      <td>train</td>\n",
       "    </tr>\n",
       "    <tr>\n",
       "      <th>44816</th>\n",
       "      <td>`NEWLINE_TOKENNEWLINE_TOKEN:: the term ``stand...</td>\n",
       "      <td>2002</td>\n",
       "      <td>False</td>\n",
       "      <td>article</td>\n",
       "      <td>random</td>\n",
       "      <td>train</td>\n",
       "    </tr>\n",
       "    <tr>\n",
       "      <th>49851</th>\n",
       "      <td>NEWLINE_TOKENNEWLINE_TOKENTrue or false, the s...</td>\n",
       "      <td>2002</td>\n",
       "      <td>False</td>\n",
       "      <td>article</td>\n",
       "      <td>random</td>\n",
       "      <td>train</td>\n",
       "    </tr>\n",
       "    <tr>\n",
       "      <th>89320</th>\n",
       "      <td>Next, maybe you could work on being less cond...</td>\n",
       "      <td>2002</td>\n",
       "      <td>True</td>\n",
       "      <td>article</td>\n",
       "      <td>random</td>\n",
       "      <td>dev</td>\n",
       "    </tr>\n",
       "    <tr>\n",
       "      <th>93890</th>\n",
       "      <td>This page will need disambiguation.</td>\n",
       "      <td>2002</td>\n",
       "      <td>True</td>\n",
       "      <td>article</td>\n",
       "      <td>random</td>\n",
       "      <td>train</td>\n",
       "    </tr>\n",
       "  </tbody>\n",
       "</table>\n",
       "</div>"
      ],
      "text/plain": [
       "                                                  comment  year  logged_in  \\\n",
       "rev_id                                                                       \n",
       "37675   `-NEWLINE_TOKENThis is not ``creative``.  Thos...  2002      False   \n",
       "44816   `NEWLINE_TOKENNEWLINE_TOKEN:: the term ``stand...  2002      False   \n",
       "49851   NEWLINE_TOKENNEWLINE_TOKENTrue or false, the s...  2002      False   \n",
       "89320    Next, maybe you could work on being less cond...  2002       True   \n",
       "93890                This page will need disambiguation.   2002       True   \n",
       "\n",
       "             ns  sample  split  \n",
       "rev_id                          \n",
       "37675   article  random  train  \n",
       "44816   article  random  train  \n",
       "49851   article  random  train  \n",
       "89320   article  random    dev  \n",
       "93890   article  random  train  "
      ]
     },
     "execution_count": 5,
     "metadata": {},
     "output_type": "execute_result"
    }
   ],
   "source": [
    "comments.head()"
   ]
  },
  {
   "cell_type": "markdown",
   "id": "73b6b191-b695-400d-b555-8ea6b9b0917a",
   "metadata": {},
   "source": [
    "The first column is the review ID. Each user review of an article has a rev_id. The other column of interest is the comment column. It will need a bit of cleaning. The other columns are irrelevant to our purpose."
   ]
  },
  {
   "cell_type": "markdown",
   "id": "92ed94ae-f155-410d-b7d4-07d7e37221e9",
   "metadata": {},
   "source": [
    "We now look at the annotations dataframe."
   ]
  },
  {
   "cell_type": "code",
   "execution_count": 6,
   "id": "998e9c9f-4bff-4d47-a757-0105f4f9fa29",
   "metadata": {},
   "outputs": [
    {
     "data": {
      "text/plain": [
       "Index(['rev_id', 'worker_id', 'quoting_attack', 'recipient_attack',\n",
       "       'third_party_attack', 'other_attack', 'attack'],\n",
       "      dtype='object')"
      ]
     },
     "execution_count": 6,
     "metadata": {},
     "output_type": "execute_result"
    }
   ],
   "source": [
    "annotations.columns"
   ]
  },
  {
   "cell_type": "code",
   "execution_count": 7,
   "id": "3baffa08-96ef-4f4a-9c3c-4dc9361d45e2",
   "metadata": {},
   "outputs": [
    {
     "data": {
      "text/html": [
       "<div>\n",
       "<style scoped>\n",
       "    .dataframe tbody tr th:only-of-type {\n",
       "        vertical-align: middle;\n",
       "    }\n",
       "\n",
       "    .dataframe tbody tr th {\n",
       "        vertical-align: top;\n",
       "    }\n",
       "\n",
       "    .dataframe thead th {\n",
       "        text-align: right;\n",
       "    }\n",
       "</style>\n",
       "<table border=\"1\" class=\"dataframe\">\n",
       "  <thead>\n",
       "    <tr style=\"text-align: right;\">\n",
       "      <th></th>\n",
       "      <th>rev_id</th>\n",
       "      <th>worker_id</th>\n",
       "      <th>quoting_attack</th>\n",
       "      <th>recipient_attack</th>\n",
       "      <th>third_party_attack</th>\n",
       "      <th>other_attack</th>\n",
       "      <th>attack</th>\n",
       "    </tr>\n",
       "  </thead>\n",
       "  <tbody>\n",
       "    <tr>\n",
       "      <th>0</th>\n",
       "      <td>37675</td>\n",
       "      <td>1362</td>\n",
       "      <td>0.0</td>\n",
       "      <td>0.0</td>\n",
       "      <td>0.0</td>\n",
       "      <td>0.0</td>\n",
       "      <td>0.0</td>\n",
       "    </tr>\n",
       "    <tr>\n",
       "      <th>1</th>\n",
       "      <td>37675</td>\n",
       "      <td>2408</td>\n",
       "      <td>0.0</td>\n",
       "      <td>0.0</td>\n",
       "      <td>0.0</td>\n",
       "      <td>0.0</td>\n",
       "      <td>0.0</td>\n",
       "    </tr>\n",
       "    <tr>\n",
       "      <th>2</th>\n",
       "      <td>37675</td>\n",
       "      <td>1493</td>\n",
       "      <td>0.0</td>\n",
       "      <td>0.0</td>\n",
       "      <td>0.0</td>\n",
       "      <td>0.0</td>\n",
       "      <td>0.0</td>\n",
       "    </tr>\n",
       "    <tr>\n",
       "      <th>3</th>\n",
       "      <td>37675</td>\n",
       "      <td>1439</td>\n",
       "      <td>0.0</td>\n",
       "      <td>0.0</td>\n",
       "      <td>0.0</td>\n",
       "      <td>0.0</td>\n",
       "      <td>0.0</td>\n",
       "    </tr>\n",
       "    <tr>\n",
       "      <th>4</th>\n",
       "      <td>37675</td>\n",
       "      <td>170</td>\n",
       "      <td>0.0</td>\n",
       "      <td>0.0</td>\n",
       "      <td>0.0</td>\n",
       "      <td>0.0</td>\n",
       "      <td>0.0</td>\n",
       "    </tr>\n",
       "  </tbody>\n",
       "</table>\n",
       "</div>"
      ],
      "text/plain": [
       "   rev_id  worker_id  quoting_attack  recipient_attack  third_party_attack  \\\n",
       "0   37675       1362             0.0               0.0                 0.0   \n",
       "1   37675       2408             0.0               0.0                 0.0   \n",
       "2   37675       1493             0.0               0.0                 0.0   \n",
       "3   37675       1439             0.0               0.0                 0.0   \n",
       "4   37675        170             0.0               0.0                 0.0   \n",
       "\n",
       "   other_attack  attack  \n",
       "0           0.0     0.0  \n",
       "1           0.0     0.0  \n",
       "2           0.0     0.0  \n",
       "3           0.0     0.0  \n",
       "4           0.0     0.0  "
      ]
     },
     "execution_count": 7,
     "metadata": {},
     "output_type": "execute_result"
    }
   ],
   "source": [
    "annotations.head()"
   ]
  },
  {
   "cell_type": "markdown",
   "id": "2c2ffad2-65e9-4f56-bf72-eda9cef1d50a",
   "metadata": {},
   "source": [
    "Each comment was given to multiple \"workers\" and the workers scored it for various types of attacks.  The results are in the second dataset. The rev_id is the link between the two datasets. A `1` means that worker considered the comment to be an attack. The last column, \"attack\" will be a `1` if any of the other columns for specific types of attack are `1`'s."
   ]
  },
  {
   "cell_type": "markdown",
   "id": "5ff9a08d-6294-4838-8a37-016f4bc78f29",
   "metadata": {},
   "source": [
    "Let's find some records where the attack column has a 1."
   ]
  },
  {
   "cell_type": "code",
   "execution_count": 8,
   "id": "3cd61088-22e2-46f5-b8ab-3a8bf058f208",
   "metadata": {},
   "outputs": [
    {
     "data": {
      "text/html": [
       "<div>\n",
       "<style scoped>\n",
       "    .dataframe tbody tr th:only-of-type {\n",
       "        vertical-align: middle;\n",
       "    }\n",
       "\n",
       "    .dataframe tbody tr th {\n",
       "        vertical-align: top;\n",
       "    }\n",
       "\n",
       "    .dataframe thead th {\n",
       "        text-align: right;\n",
       "    }\n",
       "</style>\n",
       "<table border=\"1\" class=\"dataframe\">\n",
       "  <thead>\n",
       "    <tr style=\"text-align: right;\">\n",
       "      <th></th>\n",
       "      <th>rev_id</th>\n",
       "      <th>worker_id</th>\n",
       "      <th>quoting_attack</th>\n",
       "      <th>recipient_attack</th>\n",
       "      <th>third_party_attack</th>\n",
       "      <th>other_attack</th>\n",
       "      <th>attack</th>\n",
       "    </tr>\n",
       "  </thead>\n",
       "  <tbody>\n",
       "    <tr>\n",
       "      <th>33</th>\n",
       "      <td>89320</td>\n",
       "      <td>3341</td>\n",
       "      <td>0.0</td>\n",
       "      <td>1.0</td>\n",
       "      <td>0.0</td>\n",
       "      <td>0.0</td>\n",
       "      <td>1.0</td>\n",
       "    </tr>\n",
       "    <tr>\n",
       "      <th>35</th>\n",
       "      <td>89320</td>\n",
       "      <td>3338</td>\n",
       "      <td>0.0</td>\n",
       "      <td>1.0</td>\n",
       "      <td>0.0</td>\n",
       "      <td>0.0</td>\n",
       "      <td>1.0</td>\n",
       "    </tr>\n",
       "    <tr>\n",
       "      <th>36</th>\n",
       "      <td>89320</td>\n",
       "      <td>2101</td>\n",
       "      <td>0.0</td>\n",
       "      <td>0.0</td>\n",
       "      <td>0.0</td>\n",
       "      <td>1.0</td>\n",
       "      <td>1.0</td>\n",
       "    </tr>\n",
       "    <tr>\n",
       "      <th>37</th>\n",
       "      <td>89320</td>\n",
       "      <td>673</td>\n",
       "      <td>0.0</td>\n",
       "      <td>0.0</td>\n",
       "      <td>0.0</td>\n",
       "      <td>1.0</td>\n",
       "      <td>1.0</td>\n",
       "    </tr>\n",
       "    <tr>\n",
       "      <th>127</th>\n",
       "      <td>155243</td>\n",
       "      <td>214</td>\n",
       "      <td>0.0</td>\n",
       "      <td>0.0</td>\n",
       "      <td>0.0</td>\n",
       "      <td>1.0</td>\n",
       "      <td>1.0</td>\n",
       "    </tr>\n",
       "    <tr>\n",
       "      <th>...</th>\n",
       "      <td>...</td>\n",
       "      <td>...</td>\n",
       "      <td>...</td>\n",
       "      <td>...</td>\n",
       "      <td>...</td>\n",
       "      <td>...</td>\n",
       "      <td>...</td>\n",
       "    </tr>\n",
       "    <tr>\n",
       "      <th>1365161</th>\n",
       "      <td>699822249</td>\n",
       "      <td>3301</td>\n",
       "      <td>0.0</td>\n",
       "      <td>1.0</td>\n",
       "      <td>0.0</td>\n",
       "      <td>0.0</td>\n",
       "      <td>1.0</td>\n",
       "    </tr>\n",
       "    <tr>\n",
       "      <th>1365173</th>\n",
       "      <td>699848324</td>\n",
       "      <td>3512</td>\n",
       "      <td>0.0</td>\n",
       "      <td>0.0</td>\n",
       "      <td>1.0</td>\n",
       "      <td>0.0</td>\n",
       "      <td>1.0</td>\n",
       "    </tr>\n",
       "    <tr>\n",
       "      <th>1365187</th>\n",
       "      <td>699851288</td>\n",
       "      <td>2231</td>\n",
       "      <td>0.0</td>\n",
       "      <td>1.0</td>\n",
       "      <td>0.0</td>\n",
       "      <td>0.0</td>\n",
       "      <td>1.0</td>\n",
       "    </tr>\n",
       "    <tr>\n",
       "      <th>1365200</th>\n",
       "      <td>699891012</td>\n",
       "      <td>1553</td>\n",
       "      <td>0.0</td>\n",
       "      <td>1.0</td>\n",
       "      <td>0.0</td>\n",
       "      <td>0.0</td>\n",
       "      <td>1.0</td>\n",
       "    </tr>\n",
       "    <tr>\n",
       "      <th>1365202</th>\n",
       "      <td>699891012</td>\n",
       "      <td>863</td>\n",
       "      <td>1.0</td>\n",
       "      <td>0.0</td>\n",
       "      <td>0.0</td>\n",
       "      <td>0.0</td>\n",
       "      <td>1.0</td>\n",
       "    </tr>\n",
       "  </tbody>\n",
       "</table>\n",
       "<p>227936 rows × 7 columns</p>\n",
       "</div>"
      ],
      "text/plain": [
       "            rev_id  worker_id  quoting_attack  recipient_attack  \\\n",
       "33           89320       3341             0.0               1.0   \n",
       "35           89320       3338             0.0               1.0   \n",
       "36           89320       2101             0.0               0.0   \n",
       "37           89320        673             0.0               0.0   \n",
       "127         155243        214             0.0               0.0   \n",
       "...            ...        ...             ...               ...   \n",
       "1365161  699822249       3301             0.0               1.0   \n",
       "1365173  699848324       3512             0.0               0.0   \n",
       "1365187  699851288       2231             0.0               1.0   \n",
       "1365200  699891012       1553             0.0               1.0   \n",
       "1365202  699891012        863             1.0               0.0   \n",
       "\n",
       "         third_party_attack  other_attack  attack  \n",
       "33                      0.0           0.0     1.0  \n",
       "35                      0.0           0.0     1.0  \n",
       "36                      0.0           1.0     1.0  \n",
       "37                      0.0           1.0     1.0  \n",
       "127                     0.0           1.0     1.0  \n",
       "...                     ...           ...     ...  \n",
       "1365161                 0.0           0.0     1.0  \n",
       "1365173                 1.0           0.0     1.0  \n",
       "1365187                 0.0           0.0     1.0  \n",
       "1365200                 0.0           0.0     1.0  \n",
       "1365202                 0.0           0.0     1.0  \n",
       "\n",
       "[227936 rows x 7 columns]"
      ]
     },
     "execution_count": 8,
     "metadata": {},
     "output_type": "execute_result"
    }
   ],
   "source": [
    "annotations[annotations[\"attack\"]==1.0]"
   ]
  },
  {
   "cell_type": "markdown",
   "id": "c370b301-498f-42cb-b5cb-3ce0c029ccb5",
   "metadata": {},
   "source": [
    " Consider, for example, a specific comment from the review ith rev_id = 89320.\n",
    " \n",
    " Several workers, the ones with worker_id 3341, 3338, 2101 and 673 thought it had some kind of personal attack."
   ]
  },
  {
   "cell_type": "code",
   "execution_count": 9,
   "id": "25d65829-72a9-404b-97a7-58eca10927f9",
   "metadata": {},
   "outputs": [
    {
     "data": {
      "text/plain": [
       "' Next, maybe you could work on being less condescending with your suggestions about reading the naming conventions and FDL, both of which I read quite a while ago, thanks. I really liked the bit where you were explaining why you had no interest in fixing things I complained about because you felt insulted, yet you were being extremely insulting at the time. With any luck, you can learn to be less of a jerk. GregLindahlNEWLINE_TOKENNEWLINE_TOKENNEWLINE_TOKENNEWLINE_TOKENNEWLINE_TOKENNEWLINE_TOKEN '"
      ]
     },
     "execution_count": 9,
     "metadata": {},
     "output_type": "execute_result"
    }
   ],
   "source": [
    "comments.loc[89320][\"comment\"]"
   ]
  },
  {
   "cell_type": "markdown",
   "id": "da39a4a5-2488-40ac-b323-f86fcb4343bc",
   "metadata": {},
   "source": [
    "We can look at the results from all the workers who scored this comment."
   ]
  },
  {
   "cell_type": "code",
   "execution_count": 10,
   "id": "da9d863f-5c3e-4934-aaee-d074820e3838",
   "metadata": {},
   "outputs": [
    {
     "data": {
      "text/html": [
       "<div>\n",
       "<style scoped>\n",
       "    .dataframe tbody tr th:only-of-type {\n",
       "        vertical-align: middle;\n",
       "    }\n",
       "\n",
       "    .dataframe tbody tr th {\n",
       "        vertical-align: top;\n",
       "    }\n",
       "\n",
       "    .dataframe thead th {\n",
       "        text-align: right;\n",
       "    }\n",
       "</style>\n",
       "<table border=\"1\" class=\"dataframe\">\n",
       "  <thead>\n",
       "    <tr style=\"text-align: right;\">\n",
       "      <th></th>\n",
       "      <th>rev_id</th>\n",
       "      <th>worker_id</th>\n",
       "      <th>quoting_attack</th>\n",
       "      <th>recipient_attack</th>\n",
       "      <th>third_party_attack</th>\n",
       "      <th>other_attack</th>\n",
       "      <th>attack</th>\n",
       "    </tr>\n",
       "  </thead>\n",
       "  <tbody>\n",
       "    <tr>\n",
       "      <th>29</th>\n",
       "      <td>89320</td>\n",
       "      <td>3307</td>\n",
       "      <td>0.0</td>\n",
       "      <td>0.0</td>\n",
       "      <td>0.0</td>\n",
       "      <td>0.0</td>\n",
       "      <td>0.0</td>\n",
       "    </tr>\n",
       "    <tr>\n",
       "      <th>30</th>\n",
       "      <td>89320</td>\n",
       "      <td>4000</td>\n",
       "      <td>0.0</td>\n",
       "      <td>0.0</td>\n",
       "      <td>0.0</td>\n",
       "      <td>0.0</td>\n",
       "      <td>0.0</td>\n",
       "    </tr>\n",
       "    <tr>\n",
       "      <th>31</th>\n",
       "      <td>89320</td>\n",
       "      <td>3262</td>\n",
       "      <td>0.0</td>\n",
       "      <td>0.0</td>\n",
       "      <td>0.0</td>\n",
       "      <td>0.0</td>\n",
       "      <td>0.0</td>\n",
       "    </tr>\n",
       "    <tr>\n",
       "      <th>32</th>\n",
       "      <td>89320</td>\n",
       "      <td>3376</td>\n",
       "      <td>0.0</td>\n",
       "      <td>0.0</td>\n",
       "      <td>0.0</td>\n",
       "      <td>0.0</td>\n",
       "      <td>0.0</td>\n",
       "    </tr>\n",
       "    <tr>\n",
       "      <th>33</th>\n",
       "      <td>89320</td>\n",
       "      <td>3341</td>\n",
       "      <td>0.0</td>\n",
       "      <td>1.0</td>\n",
       "      <td>0.0</td>\n",
       "      <td>0.0</td>\n",
       "      <td>1.0</td>\n",
       "    </tr>\n",
       "    <tr>\n",
       "      <th>34</th>\n",
       "      <td>89320</td>\n",
       "      <td>3340</td>\n",
       "      <td>0.0</td>\n",
       "      <td>0.0</td>\n",
       "      <td>0.0</td>\n",
       "      <td>0.0</td>\n",
       "      <td>0.0</td>\n",
       "    </tr>\n",
       "    <tr>\n",
       "      <th>35</th>\n",
       "      <td>89320</td>\n",
       "      <td>3338</td>\n",
       "      <td>0.0</td>\n",
       "      <td>1.0</td>\n",
       "      <td>0.0</td>\n",
       "      <td>0.0</td>\n",
       "      <td>1.0</td>\n",
       "    </tr>\n",
       "    <tr>\n",
       "      <th>36</th>\n",
       "      <td>89320</td>\n",
       "      <td>2101</td>\n",
       "      <td>0.0</td>\n",
       "      <td>0.0</td>\n",
       "      <td>0.0</td>\n",
       "      <td>1.0</td>\n",
       "      <td>1.0</td>\n",
       "    </tr>\n",
       "    <tr>\n",
       "      <th>37</th>\n",
       "      <td>89320</td>\n",
       "      <td>673</td>\n",
       "      <td>0.0</td>\n",
       "      <td>0.0</td>\n",
       "      <td>0.0</td>\n",
       "      <td>1.0</td>\n",
       "      <td>1.0</td>\n",
       "    </tr>\n",
       "  </tbody>\n",
       "</table>\n",
       "</div>"
      ],
      "text/plain": [
       "    rev_id  worker_id  quoting_attack  recipient_attack  third_party_attack  \\\n",
       "29   89320       3307             0.0               0.0                 0.0   \n",
       "30   89320       4000             0.0               0.0                 0.0   \n",
       "31   89320       3262             0.0               0.0                 0.0   \n",
       "32   89320       3376             0.0               0.0                 0.0   \n",
       "33   89320       3341             0.0               1.0                 0.0   \n",
       "34   89320       3340             0.0               0.0                 0.0   \n",
       "35   89320       3338             0.0               1.0                 0.0   \n",
       "36   89320       2101             0.0               0.0                 0.0   \n",
       "37   89320        673             0.0               0.0                 0.0   \n",
       "\n",
       "    other_attack  attack  \n",
       "29           0.0     0.0  \n",
       "30           0.0     0.0  \n",
       "31           0.0     0.0  \n",
       "32           0.0     0.0  \n",
       "33           0.0     1.0  \n",
       "34           0.0     0.0  \n",
       "35           0.0     1.0  \n",
       "36           1.0     1.0  \n",
       "37           1.0     1.0  "
      ]
     },
     "execution_count": 10,
     "metadata": {},
     "output_type": "execute_result"
    }
   ],
   "source": [
    "annotations[annotations[\"rev_id\"]==89320]"
   ]
  },
  {
   "cell_type": "markdown",
   "id": "d71fe1b7-204f-4609-af41-08ec255ec641",
   "metadata": {},
   "source": [
    "We shall consider a comment to be an attack if its mean score in the attack column is above 0.5. We create a column called label\".\n",
    "We group the annotations by rev_id and if the mean for the attack colummn is above 0.5 the label is true, otherwise it is false. We add that column to the comments dataset."
   ]
  },
  {
   "cell_type": "code",
   "execution_count": 11,
   "id": "f2d06b68-aa51-4f72-bf00-eb21a91213e8",
   "metadata": {},
   "outputs": [],
   "source": [
    "label = annotations.groupby('rev_id')['attack'].mean() > 0.5"
   ]
  },
  {
   "cell_type": "code",
   "execution_count": 12,
   "id": "2b67032d-c0f9-46e2-a299-98a930547c09",
   "metadata": {},
   "outputs": [
    {
     "data": {
      "text/plain": [
       "rev_id\n",
       "37675        False\n",
       "44816        False\n",
       "49851        False\n",
       "89320        False\n",
       "93890        False\n",
       "             ...  \n",
       "699848324    False\n",
       "699851288    False\n",
       "699857133    False\n",
       "699891012    False\n",
       "699897151    False\n",
       "Name: attack, Length: 115864, dtype: bool"
      ]
     },
     "execution_count": 12,
     "metadata": {},
     "output_type": "execute_result"
    }
   ],
   "source": [
    "label"
   ]
  },
  {
   "cell_type": "markdown",
   "id": "f0125ac0-0277-4328-9d12-f6c8ffa27659",
   "metadata": {},
   "source": [
    "We join comments and labels."
   ]
  },
  {
   "cell_type": "code",
   "execution_count": 13,
   "id": "c81b2b94-5299-4a79-83bc-e3ab284a2d1a",
   "metadata": {},
   "outputs": [],
   "source": [
    "comments = comments.join(label)"
   ]
  },
  {
   "cell_type": "code",
   "execution_count": 14,
   "id": "2b70bc34-7c59-4377-9e89-36a33541becd",
   "metadata": {},
   "outputs": [
    {
     "data": {
      "text/html": [
       "<div>\n",
       "<style scoped>\n",
       "    .dataframe tbody tr th:only-of-type {\n",
       "        vertical-align: middle;\n",
       "    }\n",
       "\n",
       "    .dataframe tbody tr th {\n",
       "        vertical-align: top;\n",
       "    }\n",
       "\n",
       "    .dataframe thead th {\n",
       "        text-align: right;\n",
       "    }\n",
       "</style>\n",
       "<table border=\"1\" class=\"dataframe\">\n",
       "  <thead>\n",
       "    <tr style=\"text-align: right;\">\n",
       "      <th></th>\n",
       "      <th>comment</th>\n",
       "      <th>year</th>\n",
       "      <th>logged_in</th>\n",
       "      <th>ns</th>\n",
       "      <th>sample</th>\n",
       "      <th>split</th>\n",
       "      <th>attack</th>\n",
       "    </tr>\n",
       "    <tr>\n",
       "      <th>rev_id</th>\n",
       "      <th></th>\n",
       "      <th></th>\n",
       "      <th></th>\n",
       "      <th></th>\n",
       "      <th></th>\n",
       "      <th></th>\n",
       "      <th></th>\n",
       "    </tr>\n",
       "  </thead>\n",
       "  <tbody>\n",
       "    <tr>\n",
       "      <th>37675</th>\n",
       "      <td>`-NEWLINE_TOKENThis is not ``creative``.  Thos...</td>\n",
       "      <td>2002</td>\n",
       "      <td>False</td>\n",
       "      <td>article</td>\n",
       "      <td>random</td>\n",
       "      <td>train</td>\n",
       "      <td>False</td>\n",
       "    </tr>\n",
       "    <tr>\n",
       "      <th>44816</th>\n",
       "      <td>`NEWLINE_TOKENNEWLINE_TOKEN:: the term ``stand...</td>\n",
       "      <td>2002</td>\n",
       "      <td>False</td>\n",
       "      <td>article</td>\n",
       "      <td>random</td>\n",
       "      <td>train</td>\n",
       "      <td>False</td>\n",
       "    </tr>\n",
       "    <tr>\n",
       "      <th>49851</th>\n",
       "      <td>NEWLINE_TOKENNEWLINE_TOKENTrue or false, the s...</td>\n",
       "      <td>2002</td>\n",
       "      <td>False</td>\n",
       "      <td>article</td>\n",
       "      <td>random</td>\n",
       "      <td>train</td>\n",
       "      <td>False</td>\n",
       "    </tr>\n",
       "    <tr>\n",
       "      <th>89320</th>\n",
       "      <td>Next, maybe you could work on being less cond...</td>\n",
       "      <td>2002</td>\n",
       "      <td>True</td>\n",
       "      <td>article</td>\n",
       "      <td>random</td>\n",
       "      <td>dev</td>\n",
       "      <td>False</td>\n",
       "    </tr>\n",
       "    <tr>\n",
       "      <th>93890</th>\n",
       "      <td>This page will need disambiguation.</td>\n",
       "      <td>2002</td>\n",
       "      <td>True</td>\n",
       "      <td>article</td>\n",
       "      <td>random</td>\n",
       "      <td>train</td>\n",
       "      <td>False</td>\n",
       "    </tr>\n",
       "    <tr>\n",
       "      <th>102817</th>\n",
       "      <td>NEWLINE_TOKEN-NEWLINE_TOKENNEWLINE_TOKENImport...</td>\n",
       "      <td>2002</td>\n",
       "      <td>True</td>\n",
       "      <td>user</td>\n",
       "      <td>random</td>\n",
       "      <td>train</td>\n",
       "      <td>False</td>\n",
       "    </tr>\n",
       "    <tr>\n",
       "      <th>103624</th>\n",
       "      <td>I removed the following:NEWLINE_TOKENNEWLINE_T...</td>\n",
       "      <td>2002</td>\n",
       "      <td>True</td>\n",
       "      <td>article</td>\n",
       "      <td>random</td>\n",
       "      <td>train</td>\n",
       "      <td>False</td>\n",
       "    </tr>\n",
       "    <tr>\n",
       "      <th>111032</th>\n",
       "      <td>`:If you ever claimed in a Judaic studies prog...</td>\n",
       "      <td>2002</td>\n",
       "      <td>True</td>\n",
       "      <td>article</td>\n",
       "      <td>random</td>\n",
       "      <td>dev</td>\n",
       "      <td>False</td>\n",
       "    </tr>\n",
       "    <tr>\n",
       "      <th>120283</th>\n",
       "      <td>NEWLINE_TOKENNEWLINE_TOKENNEWLINE_TOKENMy apol...</td>\n",
       "      <td>2002</td>\n",
       "      <td>True</td>\n",
       "      <td>article</td>\n",
       "      <td>random</td>\n",
       "      <td>dev</td>\n",
       "      <td>False</td>\n",
       "    </tr>\n",
       "    <tr>\n",
       "      <th>128532</th>\n",
       "      <td>`Someone wrote:NEWLINE_TOKENMore recognizable,...</td>\n",
       "      <td>2002</td>\n",
       "      <td>True</td>\n",
       "      <td>article</td>\n",
       "      <td>random</td>\n",
       "      <td>train</td>\n",
       "      <td>False</td>\n",
       "    </tr>\n",
       "  </tbody>\n",
       "</table>\n",
       "</div>"
      ],
      "text/plain": [
       "                                                  comment  year  logged_in  \\\n",
       "rev_id                                                                       \n",
       "37675   `-NEWLINE_TOKENThis is not ``creative``.  Thos...  2002      False   \n",
       "44816   `NEWLINE_TOKENNEWLINE_TOKEN:: the term ``stand...  2002      False   \n",
       "49851   NEWLINE_TOKENNEWLINE_TOKENTrue or false, the s...  2002      False   \n",
       "89320    Next, maybe you could work on being less cond...  2002       True   \n",
       "93890                This page will need disambiguation.   2002       True   \n",
       "102817  NEWLINE_TOKEN-NEWLINE_TOKENNEWLINE_TOKENImport...  2002       True   \n",
       "103624  I removed the following:NEWLINE_TOKENNEWLINE_T...  2002       True   \n",
       "111032  `:If you ever claimed in a Judaic studies prog...  2002       True   \n",
       "120283  NEWLINE_TOKENNEWLINE_TOKENNEWLINE_TOKENMy apol...  2002       True   \n",
       "128532  `Someone wrote:NEWLINE_TOKENMore recognizable,...  2002       True   \n",
       "\n",
       "             ns  sample  split  attack  \n",
       "rev_id                                  \n",
       "37675   article  random  train   False  \n",
       "44816   article  random  train   False  \n",
       "49851   article  random  train   False  \n",
       "89320   article  random    dev   False  \n",
       "93890   article  random  train   False  \n",
       "102817     user  random  train   False  \n",
       "103624  article  random  train   False  \n",
       "111032  article  random    dev   False  \n",
       "120283  article  random    dev   False  \n",
       "128532  article  random  train   False  "
      ]
     },
     "execution_count": 14,
     "metadata": {},
     "output_type": "execute_result"
    }
   ],
   "source": [
    "comments.head(10)"
   ]
  },
  {
   "cell_type": "code",
   "execution_count": 15,
   "id": "cf455f30-c141-43b8-aa97-9a0a6ca01475",
   "metadata": {},
   "outputs": [
    {
     "data": {
      "text/html": [
       "<div>\n",
       "<style scoped>\n",
       "    .dataframe tbody tr th:only-of-type {\n",
       "        vertical-align: middle;\n",
       "    }\n",
       "\n",
       "    .dataframe tbody tr th {\n",
       "        vertical-align: top;\n",
       "    }\n",
       "\n",
       "    .dataframe thead th {\n",
       "        text-align: right;\n",
       "    }\n",
       "</style>\n",
       "<table border=\"1\" class=\"dataframe\">\n",
       "  <thead>\n",
       "    <tr style=\"text-align: right;\">\n",
       "      <th></th>\n",
       "      <th>comment</th>\n",
       "      <th>year</th>\n",
       "      <th>logged_in</th>\n",
       "      <th>ns</th>\n",
       "      <th>sample</th>\n",
       "      <th>split</th>\n",
       "      <th>attack</th>\n",
       "    </tr>\n",
       "    <tr>\n",
       "      <th>rev_id</th>\n",
       "      <th></th>\n",
       "      <th></th>\n",
       "      <th></th>\n",
       "      <th></th>\n",
       "      <th></th>\n",
       "      <th></th>\n",
       "      <th></th>\n",
       "    </tr>\n",
       "  </thead>\n",
       "  <tbody>\n",
       "    <tr>\n",
       "      <th>801279</th>\n",
       "      <td>Iraq is not good  ===NEWLINE_TOKENNEWLINE_TO...</td>\n",
       "      <td>2003</td>\n",
       "      <td>False</td>\n",
       "      <td>article</td>\n",
       "      <td>random</td>\n",
       "      <td>train</td>\n",
       "      <td>True</td>\n",
       "    </tr>\n",
       "    <tr>\n",
       "      <th>2702703</th>\n",
       "      <td>NEWLINE_TOKENNEWLINE_TOKEN____NEWLINE_TOKENfuc...</td>\n",
       "      <td>2004</td>\n",
       "      <td>False</td>\n",
       "      <td>user</td>\n",
       "      <td>random</td>\n",
       "      <td>train</td>\n",
       "      <td>True</td>\n",
       "    </tr>\n",
       "    <tr>\n",
       "      <th>4632658</th>\n",
       "      <td>i have a dick, its bigger than yours! hahaha</td>\n",
       "      <td>2004</td>\n",
       "      <td>False</td>\n",
       "      <td>article</td>\n",
       "      <td>blocked</td>\n",
       "      <td>train</td>\n",
       "      <td>True</td>\n",
       "    </tr>\n",
       "    <tr>\n",
       "      <th>6545332</th>\n",
       "      <td>NEWLINE_TOKENNEWLINE_TOKEN== renault ==NEWLINE...</td>\n",
       "      <td>2004</td>\n",
       "      <td>True</td>\n",
       "      <td>user</td>\n",
       "      <td>blocked</td>\n",
       "      <td>train</td>\n",
       "      <td>True</td>\n",
       "    </tr>\n",
       "    <tr>\n",
       "      <th>6545351</th>\n",
       "      <td>NEWLINE_TOKENNEWLINE_TOKEN== renault ==NEWLINE...</td>\n",
       "      <td>2004</td>\n",
       "      <td>True</td>\n",
       "      <td>user</td>\n",
       "      <td>blocked</td>\n",
       "      <td>test</td>\n",
       "      <td>True</td>\n",
       "    </tr>\n",
       "    <tr>\n",
       "      <th>...</th>\n",
       "      <td>...</td>\n",
       "      <td>...</td>\n",
       "      <td>...</td>\n",
       "      <td>...</td>\n",
       "      <td>...</td>\n",
       "      <td>...</td>\n",
       "      <td>...</td>\n",
       "    </tr>\n",
       "    <tr>\n",
       "      <th>699645524</th>\n",
       "      <td>Brandon Semenuk has won the event four times ...</td>\n",
       "      <td>2016</td>\n",
       "      <td>True</td>\n",
       "      <td>user</td>\n",
       "      <td>blocked</td>\n",
       "      <td>train</td>\n",
       "      <td>True</td>\n",
       "    </tr>\n",
       "    <tr>\n",
       "      <th>699659494</th>\n",
       "      <td>im soory since when is google images not allow...</td>\n",
       "      <td>2016</td>\n",
       "      <td>True</td>\n",
       "      <td>user</td>\n",
       "      <td>blocked</td>\n",
       "      <td>dev</td>\n",
       "      <td>True</td>\n",
       "    </tr>\n",
       "    <tr>\n",
       "      <th>699660419</th>\n",
       "      <td>what ever you fuggin fagNEWLINE_TOKENQuestion ...</td>\n",
       "      <td>2016</td>\n",
       "      <td>True</td>\n",
       "      <td>user</td>\n",
       "      <td>blocked</td>\n",
       "      <td>test</td>\n",
       "      <td>True</td>\n",
       "    </tr>\n",
       "    <tr>\n",
       "      <th>699661020</th>\n",
       "      <td>NEWLINE_TOKENNEWLINE_TOKEN== Nice try but no c...</td>\n",
       "      <td>2016</td>\n",
       "      <td>True</td>\n",
       "      <td>user</td>\n",
       "      <td>blocked</td>\n",
       "      <td>train</td>\n",
       "      <td>True</td>\n",
       "    </tr>\n",
       "    <tr>\n",
       "      <th>699664687</th>\n",
       "      <td>shut up mind your own business and go fuck so...</td>\n",
       "      <td>2016</td>\n",
       "      <td>True</td>\n",
       "      <td>user</td>\n",
       "      <td>blocked</td>\n",
       "      <td>dev</td>\n",
       "      <td>True</td>\n",
       "    </tr>\n",
       "  </tbody>\n",
       "</table>\n",
       "<p>13590 rows × 7 columns</p>\n",
       "</div>"
      ],
      "text/plain": [
       "                                                     comment  year  logged_in  \\\n",
       "rev_id                                                                          \n",
       "801279       Iraq is not good  ===NEWLINE_TOKENNEWLINE_TO...  2003      False   \n",
       "2702703    NEWLINE_TOKENNEWLINE_TOKEN____NEWLINE_TOKENfuc...  2004      False   \n",
       "4632658         i have a dick, its bigger than yours! hahaha  2004      False   \n",
       "6545332    NEWLINE_TOKENNEWLINE_TOKEN== renault ==NEWLINE...  2004       True   \n",
       "6545351    NEWLINE_TOKENNEWLINE_TOKEN== renault ==NEWLINE...  2004       True   \n",
       "...                                                      ...   ...        ...   \n",
       "699645524   Brandon Semenuk has won the event four times ...  2016       True   \n",
       "699659494  im soory since when is google images not allow...  2016       True   \n",
       "699660419  what ever you fuggin fagNEWLINE_TOKENQuestion ...  2016       True   \n",
       "699661020  NEWLINE_TOKENNEWLINE_TOKEN== Nice try but no c...  2016       True   \n",
       "699664687   shut up mind your own business and go fuck so...  2016       True   \n",
       "\n",
       "                ns   sample  split  attack  \n",
       "rev_id                                      \n",
       "801279     article   random  train    True  \n",
       "2702703       user   random  train    True  \n",
       "4632658    article  blocked  train    True  \n",
       "6545332       user  blocked  train    True  \n",
       "6545351       user  blocked   test    True  \n",
       "...            ...      ...    ...     ...  \n",
       "699645524     user  blocked  train    True  \n",
       "699659494     user  blocked    dev    True  \n",
       "699660419     user  blocked   test    True  \n",
       "699661020     user  blocked  train    True  \n",
       "699664687     user  blocked    dev    True  \n",
       "\n",
       "[13590 rows x 7 columns]"
      ]
     },
     "execution_count": 15,
     "metadata": {},
     "output_type": "execute_result"
    }
   ],
   "source": [
    "# Skip this cell if you would rather not read rather unpleasant comments!\n",
    "comments[comments[\"attack\"] == True]"
   ]
  },
  {
   "cell_type": "markdown",
   "id": "5bb5af81-7cd2-468c-8305-911620681b2c",
   "metadata": {},
   "source": [
    "## Preprocessing the data"
   ]
  },
  {
   "cell_type": "markdown",
   "id": "862a2756-4603-493e-a96a-7746cb0714bd",
   "metadata": {},
   "source": [
    "We remove the \"NEWLINE_TOKEN\" and \"TAB_TOKEN\" substrings in the comments as well as the punctuation. We shall lower case the words and remove stop words and numbers."
   ]
  },
  {
   "cell_type": "code",
   "execution_count": 16,
   "id": "9d79f354-5d44-4bc6-b1cd-0dde8e762c2e",
   "metadata": {},
   "outputs": [
    {
     "data": {
      "text/plain": [
       "rev_id\n",
       "37675    `-NEWLINE_TOKENThis is not ``creative``.  Thos...\n",
       "44816    `NEWLINE_TOKENNEWLINE_TOKEN:: the term ``stand...\n",
       "49851    NEWLINE_TOKENNEWLINE_TOKENTrue or false, the s...\n",
       "89320     Next, maybe you could work on being less cond...\n",
       "93890                 This page will need disambiguation. \n",
       "Name: comment, dtype: object"
      ]
     },
     "execution_count": 16,
     "metadata": {},
     "output_type": "execute_result"
    }
   ],
   "source": [
    "comments['comment'].head()"
   ]
  },
  {
   "cell_type": "code",
   "execution_count": 17,
   "id": "6fec99a2-fa22-42cd-bc64-20106462ab94",
   "metadata": {},
   "outputs": [],
   "source": [
    "comments['comment'] = comments['comment'].apply(lambda x: x.replace(\"NEWLINE_TOKEN\", \"\"))\n",
    "comments['comment'] = comments['comment'].apply(lambda x: x.replace(\"TAB_TOKEN\", \"\"))\n",
    "comments['comment'] = comments['comment'].apply(lambda x: x.lower())\n",
    "comments['comment'] = comments['comment'].apply(lambda x: re.sub(r'[^\\w\\s]', '', x))\n",
    "comments['comment'] = comments['comment'].apply(lambda x: re.sub(r'\\d+', '', x))"
   ]
  },
  {
   "cell_type": "code",
   "execution_count": 18,
   "id": "cf597f7f-3e85-4977-af45-ce2b50a4057f",
   "metadata": {},
   "outputs": [
    {
     "data": {
      "text/plain": [
       "rev_id\n",
       "37675     this is not creative  those are the dictionary...\n",
       "44816      the term standard model is itself less npov t...\n",
       "49851     true or false the situation as of march  was s...\n",
       "89320      next maybe you could work on being less conde...\n",
       "93890                   this page will need disambiguation \n",
       "102817    important note for all sysops there is a bug i...\n",
       "103624    i removed the followingall names of early poli...\n",
       "111032    if you ever claimed in a judaic studies progra...\n",
       "120283    my apologies  im english i watch cricket i kno...\n",
       "128532    someone wrotemore recognizable perhaps is a ty...\n",
       "133562    correct full biographical details will put dow...\n",
       "138117    care should be taken to distinguish when and i...\n",
       "155243    if i may butt in  ive spent the last  hour fol...\n",
       "177310    on my  you will find the apology that i owe yo...\n",
       "192579    i fail to see the distinction  who better than...\n",
       "201190                        gets far more tendentious yet\n",
       "208009    as a person who has done some of this activity...\n",
       "249432    its great that weve found a new source of free...\n",
       "252031    no i really havent heard of either one at leas...\n",
       "268558    id like the concepts of microevolution and mac...\n",
       "Name: comment, dtype: object"
      ]
     },
     "execution_count": 18,
     "metadata": {},
     "output_type": "execute_result"
    }
   ],
   "source": [
    "comments['comment'].head(20)"
   ]
  },
  {
   "cell_type": "code",
   "execution_count": 19,
   "id": "d4a61886-e988-4d57-ae58-51c4798aabbe",
   "metadata": {},
   "outputs": [],
   "source": [
    "from nltk.corpus import stopwords\n",
    "from nltk.tokenize import word_tokenize\n",
    "stop_words = set(stopwords.words('english'))"
   ]
  },
  {
   "cell_type": "code",
   "execution_count": 20,
   "id": "751ced8b-ed14-4589-83b3-60cc63d9e418",
   "metadata": {},
   "outputs": [],
   "source": [
    "def remove_stop_words(comment):\n",
    "    word_tokens = word_tokenize(comment)\n",
    "    filtered_comment = [w for w in word_tokens if not w.lower() in stop_words]\n",
    "    filtered_comment = \"\"\n",
    "    for w in word_tokens:\n",
    "        if w not in stop_words:\n",
    "            filtered_comment = filtered_comment + \" \" + w\n",
    "    return(filtered_comment)"
   ]
  },
  {
   "cell_type": "code",
   "execution_count": 21,
   "id": "2de6316e-101b-4d15-95de-f10929160ab0",
   "metadata": {},
   "outputs": [
    {
     "data": {
      "text/plain": [
       "' This test comment'"
      ]
     },
     "execution_count": 21,
     "metadata": {},
     "output_type": "execute_result"
    }
   ],
   "source": [
    "remove_stop_words(\"This is a test comment\")"
   ]
  },
  {
   "cell_type": "code",
   "execution_count": 22,
   "id": "8d2608db-b032-4896-9d27-1c1ad91f147e",
   "metadata": {},
   "outputs": [
    {
     "name": "stdout",
     "output_type": "stream",
     "text": [
      "CPU times: user 28.8 s, sys: 4.56 ms, total: 28.8 s\n",
      "Wall time: 28.8 s\n"
     ]
    }
   ],
   "source": [
    "%%time\n",
    "# This takes about 30 seconds\n",
    "comments['comment'] = comments['comment'].apply(lambda x: remove_stop_words(x))"
   ]
  },
  {
   "cell_type": "code",
   "execution_count": 23,
   "id": "a641d921-a455-43d1-912e-76f0a2da75c5",
   "metadata": {},
   "outputs": [
    {
     "data": {
      "text/plain": [
       "rev_id\n",
       "37675      creative dictionary definitions terms insuran...\n",
       "44816      term standard model less npov think wed prefe...\n",
       "49851      true false situation march saudi proposal lan...\n",
       "89320      next maybe could work less condescending sugg...\n",
       "93890                              page need disambiguation\n",
       "102817     important note sysops bug administrative move...\n",
       "103624     removed followingall names early polish ruler...\n",
       "111032     ever claimed judaic studies program ultraorth...\n",
       "120283     apologies im english watch cricket know nothi...\n",
       "128532     someone wrotemore recognizable perhaps type g...\n",
       "133562     correct full biographical details put birth d...\n",
       "138117     care taken distinguish definitions express sp...\n",
       "155243     may butt ive spent last hour following andre ...\n",
       "177310           find apology owe shuffles feet looks floor\n",
       "192579     fail see distinction better legal scholars de...\n",
       "201190                             gets far tendentious yet\n",
       "208009     person done activity say use bioprospecting w...\n",
       "249432     great weve found new source free information ...\n",
       "252031     really havent heard either one least recall i...\n",
       "268558     id like concepts microevolution macroevolutio...\n",
       "Name: comment, dtype: object"
      ]
     },
     "execution_count": 23,
     "metadata": {},
     "output_type": "execute_result"
    }
   ],
   "source": [
    "comments['comment'].head(20)"
   ]
  },
  {
   "cell_type": "markdown",
   "id": "acc18553-0817-4edf-83ae-071d76ed0229",
   "metadata": {},
   "source": [
    "We only need the comment and attack columns."
   ]
  },
  {
   "cell_type": "code",
   "execution_count": 24,
   "id": "f57b816a-0e89-461c-ac89-a6794057ea28",
   "metadata": {},
   "outputs": [],
   "source": [
    "df = pd.concat([comments[\"comment\"],comments[\"attack\"]], axis=1)"
   ]
  },
  {
   "cell_type": "code",
   "execution_count": 25,
   "id": "9732aa0e-4e01-4c45-becb-1f3bc3b6f377",
   "metadata": {},
   "outputs": [
    {
     "data": {
      "text/html": [
       "<div>\n",
       "<style scoped>\n",
       "    .dataframe tbody tr th:only-of-type {\n",
       "        vertical-align: middle;\n",
       "    }\n",
       "\n",
       "    .dataframe tbody tr th {\n",
       "        vertical-align: top;\n",
       "    }\n",
       "\n",
       "    .dataframe thead th {\n",
       "        text-align: right;\n",
       "    }\n",
       "</style>\n",
       "<table border=\"1\" class=\"dataframe\">\n",
       "  <thead>\n",
       "    <tr style=\"text-align: right;\">\n",
       "      <th></th>\n",
       "      <th>comment</th>\n",
       "      <th>attack</th>\n",
       "    </tr>\n",
       "    <tr>\n",
       "      <th>rev_id</th>\n",
       "      <th></th>\n",
       "      <th></th>\n",
       "    </tr>\n",
       "  </thead>\n",
       "  <tbody>\n",
       "    <tr>\n",
       "      <th>37675</th>\n",
       "      <td>creative dictionary definitions terms insuran...</td>\n",
       "      <td>False</td>\n",
       "    </tr>\n",
       "    <tr>\n",
       "      <th>44816</th>\n",
       "      <td>term standard model less npov think wed prefe...</td>\n",
       "      <td>False</td>\n",
       "    </tr>\n",
       "    <tr>\n",
       "      <th>49851</th>\n",
       "      <td>true false situation march saudi proposal lan...</td>\n",
       "      <td>False</td>\n",
       "    </tr>\n",
       "    <tr>\n",
       "      <th>89320</th>\n",
       "      <td>next maybe could work less condescending sugg...</td>\n",
       "      <td>False</td>\n",
       "    </tr>\n",
       "    <tr>\n",
       "      <th>93890</th>\n",
       "      <td>page need disambiguation</td>\n",
       "      <td>False</td>\n",
       "    </tr>\n",
       "  </tbody>\n",
       "</table>\n",
       "</div>"
      ],
      "text/plain": [
       "                                                  comment  attack\n",
       "rev_id                                                           \n",
       "37675    creative dictionary definitions terms insuran...   False\n",
       "44816    term standard model less npov think wed prefe...   False\n",
       "49851    true false situation march saudi proposal lan...   False\n",
       "89320    next maybe could work less condescending sugg...   False\n",
       "93890                            page need disambiguation   False"
      ]
     },
     "execution_count": 25,
     "metadata": {},
     "output_type": "execute_result"
    }
   ],
   "source": [
    "df.head()"
   ]
  },
  {
   "cell_type": "code",
   "execution_count": 26,
   "id": "d5b06b1c-8fbf-4674-a968-83e1427be63b",
   "metadata": {},
   "outputs": [
    {
     "data": {
      "text/plain": [
       "(115864, 2)"
      ]
     },
     "execution_count": 26,
     "metadata": {},
     "output_type": "execute_result"
    }
   ],
   "source": [
    "df.shape"
   ]
  },
  {
   "cell_type": "code",
   "execution_count": 27,
   "id": "f9989a16-f950-40ca-b01f-b70a16ee64a7",
   "metadata": {},
   "outputs": [
    {
     "data": {
      "text/plain": [
       "(13590, 2)"
      ]
     },
     "execution_count": 27,
     "metadata": {},
     "output_type": "execute_result"
    }
   ],
   "source": [
    "df[df[\"attack\"] == True].shape"
   ]
  },
  {
   "cell_type": "markdown",
   "id": "48121405-e707-47ae-8cc3-a36701281c49",
   "metadata": {},
   "source": [
    "## Splitting the data into a training set and a test set"
   ]
  },
  {
   "cell_type": "code",
   "execution_count": 28,
   "id": "0cfbaabc-9978-4e2a-9f11-2d8a65f9980e",
   "metadata": {},
   "outputs": [],
   "source": [
    "from sklearn.model_selection import train_test_split\n",
    "X_train, X_test, y_train, y_test = train_test_split(\n",
    "    df['comment'], \n",
    "    df['attack'], \n",
    "    test_size = 0.2,\n",
    "    random_state = 1278)"
   ]
  },
  {
   "cell_type": "markdown",
   "id": "23948bf0-2d35-4f01-8b02-9c17992acd34",
   "metadata": {},
   "source": [
    "As a sanity check, print out the shapes of the dataframes."
   ]
  },
  {
   "cell_type": "code",
   "execution_count": 29,
   "id": "5affc088-11e9-415f-a219-f080e65621f7",
   "metadata": {},
   "outputs": [
    {
     "name": "stdout",
     "output_type": "stream",
     "text": [
      "Training features and labels\n",
      "X_train shape:  (92691,)\n",
      "y_train shape:  (92691,)\n",
      "\n",
      "Testing features and labels\n",
      "X_test shape:  (23173,)\n",
      "y_test shape:  (23173,)\n"
     ]
    }
   ],
   "source": [
    "print(\"Training features and labels\")\n",
    "print(\"X_train shape: \",X_train.shape)\n",
    "print(\"y_train shape: \",y_train.shape)\n",
    "print()\n",
    "print(\"Testing features and labels\")      \n",
    "print(\"X_test shape: \",X_test.shape)\n",
    "print(\"y_test shape: \",y_test.shape)"
   ]
  },
  {
   "cell_type": "markdown",
   "id": "faf0fd73-4836-4c49-9c7c-585cf91aa713",
   "metadata": {},
   "source": [
    "Vectorize the features."
   ]
  },
  {
   "cell_type": "markdown",
   "id": "0101a220-1a24-4658-b09b-91679f5b4f13",
   "metadata": {},
   "source": [
    "The features need to be expressed as vectors. We shall use CountVectorizer which does a word count on each document and creates a vector fo it based on the frequency of words in it. To avoid very  long vectors we shall just use the 5000 most frequent words as features. This is after removing stop words as they are very frequent but carry no information about the document. We also will not use rare words, words that appear in less than 10% of the documents. Further, we will not use words that are too common, ones that are present in more than 90% of the documents."
   ]
  },
  {
   "cell_type": "code",
   "execution_count": 30,
   "id": "81a01a51-74fc-4031-8580-64b920d1186e",
   "metadata": {},
   "outputs": [],
   "source": [
    "from sklearn.feature_extraction.text import CountVectorizer"
   ]
  },
  {
   "cell_type": "code",
   "execution_count": 31,
   "id": "51c3019f-1520-4be8-a899-8660b2bfed9c",
   "metadata": {},
   "outputs": [],
   "source": [
    "vectorizer = CountVectorizer(binary = True, \n",
    "                             stop_words = stopwords.words('english'), \n",
    "                             lowercase = True, \n",
    "                             min_df = 3, \n",
    "                             max_df = 0.9, \n",
    "                             max_features = 5000)\n",
    "X_train_vectorized = vectorizer.fit_transform(X_train)"
   ]
  },
  {
   "cell_type": "markdown",
   "id": "4339ca20-b381-4dc1-a2e8-c4f31fe9b25b",
   "metadata": {},
   "source": [
    "The array produced by CountVectorizer is a sparse array."
   ]
  },
  {
   "cell_type": "code",
   "execution_count": 32,
   "id": "8862b023-7347-4956-97bb-933363de5793",
   "metadata": {},
   "outputs": [
    {
     "name": "stdout",
     "output_type": "stream",
     "text": [
      "(92691, 5000)\n",
      "[0 0 0 ... 0 0 0]\n"
     ]
    }
   ],
   "source": [
    "print (X_train_vectorized.toarray().shape)\n",
    "print(X_train_vectorized.toarray()[5,:])"
   ]
  },
  {
   "cell_type": "markdown",
   "id": "0dead281-d57d-464b-ad9c-2ddcb6803bbf",
   "metadata": {},
   "source": [
    "Each one of the 5000 words being used to characterize the comments has an index. If the word is present in the document the value at that index will be a 1, otherwise it will be a 0. There are relatively few 1's so a sparse matrix is an efficient way to store the array."
   ]
  },
  {
   "cell_type": "code",
   "execution_count": 33,
   "id": "ab3c0475-cdf5-4aae-9383-304a51e51bad",
   "metadata": {},
   "outputs": [
    {
     "name": "stdout",
     "output_type": "stream",
     "text": [
      "[('july', 2433), ('vandalizing', 4722), ('pages', 3120), ('removing', 3679), ('sourced', 4128), ('content', 962), ('cases', 654), ('wholly', 4861), ('deleting', 1200), ('article', 308), ('check', 716), ('recent', 3581), ('history', 2092), ('also', 175), ('reported', 3697), ('one', 3049), ('thought', 4471), ('im', 2179), ('really', 3571), ('sure', 4341)]\n"
     ]
    }
   ],
   "source": [
    "# These are the first 20 mappings of the form word => index.\n",
    "print(list(vectorizer.vocabulary_.items())[:20])"
   ]
  },
  {
   "cell_type": "markdown",
   "id": "0f440adb-9241-4a60-8e5f-03ac2e9f11a1",
   "metadata": {},
   "source": [
    "Some of the words used:"
   ]
  },
  {
   "cell_type": "code",
   "execution_count": 34,
   "id": "dcd52a45-7302-4d23-92b1-26832b7b063a",
   "metadata": {},
   "outputs": [
    {
     "data": {
      "text/plain": [
       "array(['deleting', 'deletion', 'deletions', 'deliberate', 'deliberately',\n",
       "       'delivered', 'demand', 'demands', 'democracy', 'democratic',\n",
       "       'demonstrate', 'demonstrated', 'demonstrates', 'denial', 'denied',\n",
       "       'dennis', 'deny', 'denying', 'department', 'depending', 'depends',\n",
       "       'depth', 'derived', 'derogatory', 'descendants', 'descent',\n",
       "       'describe', 'described', 'describes', 'describing', 'description',\n",
       "       'descriptions', 'descriptive', 'deserve', 'deserved', 'deserves',\n",
       "       'design', 'designed', 'desire', 'desired', 'desist', 'desk',\n",
       "       'desperate', 'despite', 'destroy', 'destroyed', 'destroying',\n",
       "       'destruction', 'destructive', 'detail'], dtype=object)"
      ]
     },
     "execution_count": 34,
     "metadata": {},
     "output_type": "execute_result"
    }
   ],
   "source": [
    "vectorizer.get_feature_names_out()[1200:1250]\n",
    "# Be warned as you explore that some words from media will be unpleasant"
   ]
  },
  {
   "cell_type": "markdown",
   "id": "2ae54106-2949-4dbd-b422-4e9f05e2666c",
   "metadata": {},
   "source": [
    "## Defining the model (neural network)"
   ]
  },
  {
   "cell_type": "code",
   "execution_count": 35,
   "id": "b18ac977-2ae5-4bfd-ba08-a5e8df79fea9",
   "metadata": {},
   "outputs": [
    {
     "name": "stderr",
     "output_type": "stream",
     "text": [
      "2023-09-05 02:26:07.462681: I tensorflow/core/platform/cpu_feature_guard.cc:193] This TensorFlow binary is optimized with oneAPI Deep Neural Network Library (oneDNN) to use the following CPU instructions in performance-critical operations:  SSE4.1 SSE4.2\n",
      "To enable them in other operations, rebuild TensorFlow with the appropriate compiler flags.\n",
      "2023-09-05 02:26:12.960648: I tensorflow/core/platform/cpu_feature_guard.cc:193] This TensorFlow binary is optimized with oneAPI Deep Neural Network Library (oneDNN) to use the following CPU instructions in performance-critical operations:  SSE4.1 SSE4.2\n",
      "To enable them in other operations, rebuild TensorFlow with the appropriate compiler flags.\n",
      "2023-09-05 02:26:12.964239: I tensorflow/core/common_runtime/process_util.cc:146] Creating new thread pool with default inter op setting: 2. Tune using inter_op_parallelism_threads for best performance.\n",
      "/home/student/anaconda3/envs/crsB178/lib/python3.10/site-packages/sklearn/utils/deprecation.py:87: FutureWarning: Function get_feature_names is deprecated; get_feature_names is deprecated in 1.0 and will be removed in 1.2. Please use get_feature_names_out instead.\n",
      "  warnings.warn(msg, category=FutureWarning)\n"
     ]
    }
   ],
   "source": [
    "from keras.models import Sequential\n",
    "from keras.layers import Dense\n",
    "\n",
    "# Sequential is a container for the other components.\n",
    "# You add layers, in order, to an instance of Sequential.\n",
    "\n",
    "nn = Sequential()\n",
    "\n",
    "# The 5000 features plus a bias, which makes 5001 items, will be fed to a dense layer with 500 nodes.\n",
    "# This layer calculates 5001 * 500 = 2,500,500 weights.\n",
    "\n",
    "nn.add(Dense(units = 500, activation = 'relu', input_dim = len(vectorizer.get_feature_names())))\n",
    "\n",
    "# You get an output from each node, 500 outputs in all.\n",
    "# The 500 outputs of the first hidden layer plus a bias will go to the one node of the \n",
    "# second hidden layer. This makes 501 weights to calculate in this layer.\n",
    "\n",
    "nn.add(Dense(units=1, activation='sigmoid'))\n",
    "  \n",
    "# Binary cross entropy is a popular loss function for binary type (yes/no) situations.\n",
    "nn.compile(loss='binary_crossentropy', optimizer='adam', metrics=['accuracy'])"
   ]
  },
  {
   "cell_type": "code",
   "execution_count": 36,
   "id": "4ed69a76-88fd-4e73-98c3-a0cf21d71216",
   "metadata": {},
   "outputs": [
    {
     "name": "stdout",
     "output_type": "stream",
     "text": [
      "Model: \"sequential\"\n",
      "_________________________________________________________________\n",
      " Layer (type)                Output Shape              Param #   \n",
      "=================================================================\n",
      " dense (Dense)               (None, 500)               2500500   \n",
      "                                                                 \n",
      " dense_1 (Dense)             (None, 1)                 501       \n",
      "                                                                 \n",
      "=================================================================\n",
      "Total params: 2,501,001\n",
      "Trainable params: 2,501,001\n",
      "Non-trainable params: 0\n",
      "_________________________________________________________________\n"
     ]
    }
   ],
   "source": [
    "nn.summary()"
   ]
  },
  {
   "cell_type": "markdown",
   "id": "002c8519-a7f0-4b86-b96e-96e4e110b6bb",
   "metadata": {},
   "source": [
    "This very small network has 2.5 million parameters to calculate.\n",
    "Make sure there are no other kernels running otherwise your kernel is likely to crash for lack of resources."
   ]
  },
  {
   "cell_type": "markdown",
   "id": "cde84713-681e-48a3-a9bd-569d93e7f72d",
   "metadata": {},
   "source": [
    "## Training the model"
   ]
  },
  {
   "cell_type": "markdown",
   "id": "80499102-4343-47b3-a463-0a19d17caac1",
   "metadata": {},
   "source": [
    "This will take about 7 min"
   ]
  },
  {
   "cell_type": "code",
   "execution_count": 37,
   "id": "cf730ac8-3066-4bcf-8c15-e01fb341797c",
   "metadata": {},
   "outputs": [
    {
     "name": "stdout",
     "output_type": "stream",
     "text": [
      "Epoch 1/4\n",
      "709/709 [==============================] - 59s 32ms/step - loss: 0.1992 - accuracy: 0.9328 - val_loss: 0.1575 - val_accuracy: 0.9450\n",
      "Epoch 2/4\n",
      "709/709 [==============================] - 20s 28ms/step - loss: 0.1293 - accuracy: 0.9545 - val_loss: 0.1612 - val_accuracy: 0.9485\n",
      "Epoch 3/4\n",
      "709/709 [==============================] - 21s 30ms/step - loss: 0.0954 - accuracy: 0.9669 - val_loss: 0.1754 - val_accuracy: 0.9380\n",
      "Epoch 4/4\n",
      "709/709 [==============================] - 21s 30ms/step - loss: 0.0646 - accuracy: 0.9786 - val_loss: 0.1956 - val_accuracy: 0.9430\n",
      "CPU times: user 6min 44s, sys: 4min 6s, total: 10min 50s\n",
      "Wall time: 2min 36s\n"
     ]
    },
    {
     "data": {
      "text/plain": [
       "<keras.callbacks.History at 0x7f873c1e0e20>"
      ]
     },
     "execution_count": 37,
     "metadata": {},
     "output_type": "execute_result"
    }
   ],
   "source": [
    "%%time\n",
    "# Takes 3 to 7 min depending on resources available.\n",
    "# The last 2000 rows of the training data are used for validation.\n",
    "nn.fit(X_train_vectorized[:-2000].toarray(), y_train[:-2000], \n",
    "          epochs = 4, batch_size = 128, verbose = 1, \n",
    "          validation_data = (X_train_vectorized[-2000:].toarray(), y_train[-2000:]))"
   ]
  },
  {
   "cell_type": "markdown",
   "id": "16bce662-cb80-4179-a5d1-164c8ade1c92",
   "metadata": {},
   "source": [
    "## Evaluating the model peformance"
   ]
  },
  {
   "cell_type": "markdown",
   "id": "c8c4f173-f257-4a93-bfd0-eacc3e619c9b",
   "metadata": {},
   "source": [
    "We prepare vectors for the test data set and use the `evaluate()` method so see how good the model is with unseen data."
   ]
  },
  {
   "cell_type": "code",
   "execution_count": 38,
   "id": "4b643e18-c4e8-4ec9-8132-c5ce9afc0ba1",
   "metadata": {},
   "outputs": [
    {
     "name": "stdout",
     "output_type": "stream",
     "text": [
      "725/725 [==============================] - 4s 5ms/step - loss: 0.2131 - accuracy: 0.9379\n",
      "Accuracy: 0.9379018545150757\n"
     ]
    }
   ],
   "source": [
    "scores = nn.evaluate(vectorizer.transform(X_test).toarray(), y_test, verbose = 1)\n",
    "# scores has several measurements in it. The one in postion 1 is the accuracy.\n",
    "print(\"Accuracy:\", scores[1])"
   ]
  },
  {
   "cell_type": "markdown",
   "id": "f08a698b-4450-4b96-bab0-494898974400",
   "metadata": {},
   "source": [
    "We try out the model with our own comment. We need to pre-process the new comment like we did the training comments. This is best put in a function or pipeline."
   ]
  },
  {
   "cell_type": "code",
   "execution_count": 39,
   "id": "8c07acb6-edbe-4d1c-8fee-4ce8750aacf4",
   "metadata": {},
   "outputs": [],
   "source": [
    "def prepareData(comment):\n",
    "    comment.replace(\"NEWLINE_TOKEN\", \"\")\n",
    "    comment.replace(\"TAB_TOKEN\", \"\")\n",
    "    comment.lower()\n",
    "    comment = re.sub(r'[^\\w\\s]', '', comment)\n",
    "    comment = re.sub(r'\\d+', '', comment)\n",
    "    return(comment)"
   ]
  },
  {
   "cell_type": "code",
   "execution_count": 40,
   "id": "9e181567-8c0a-4157-ac2b-61bfe6999d27",
   "metadata": {},
   "outputs": [],
   "source": [
    "def comment_analysis(raw_comment):\n",
    "    prepared_comment = pd.array([prepareData(raw_comment)])\n",
    "    vectorized_comment = vectorizer.transform(prepared_comment)\n",
    "    print(\"Input: \", raw_comment)\n",
    "    print(\"Probability that it is a personal attack :\", nn.predict(vectorized_comment))"
   ]
  },
  {
   "cell_type": "code",
   "execution_count": 41,
   "id": "0ea31baf-044b-4eb3-a9b0-fc011a5c74c8",
   "metadata": {},
   "outputs": [
    {
     "name": "stdout",
     "output_type": "stream",
     "text": [
      "Input:  This is a terrible article. Whoever wrote it is a total fool\n",
      "1/1 [==============================] - 0s 186ms/step\n",
      "Probability that it is a personal attack : [[0.9549549]]\n"
     ]
    }
   ],
   "source": [
    "comment_analysis(\"This is a terrible article. Whoever wrote it is a total fool\")"
   ]
  },
  {
   "cell_type": "code",
   "execution_count": 42,
   "id": "d541d21e-8bec-4a12-a409-2db20712b038",
   "metadata": {},
   "outputs": [
    {
     "name": "stdout",
     "output_type": "stream",
     "text": [
      "Input:  This is the best article on this topic. Thank you for writing it\n",
      "1/1 [==============================] - 0s 7ms/step\n",
      "Probability that it is a personal attack : [[0.00014433]]\n"
     ]
    }
   ],
   "source": [
    "comment_analysis(\"This is the best article on this topic. Thank you for writing it\")"
   ]
  },
  {
   "cell_type": "markdown",
   "id": "b50c940a-28dc-4e9f-9fe1-35dd3b5af93d",
   "metadata": {},
   "source": [
    "*Try some comments of your own*"
   ]
  },
  {
   "cell_type": "code",
   "execution_count": 43,
   "id": "226a5497-a3e2-44e2-88c5-f66e2a8a00a4",
   "metadata": {},
   "outputs": [
    {
     "name": "stdout",
     "output_type": "stream",
     "text": [
      "Time taken: in min 5.3006080187663125\n"
     ]
    }
   ],
   "source": [
    "end = time.perf_counter()\n",
    "print(\"Time taken: in min\", (end - start)/60)"
   ]
  },
  {
   "cell_type": "code",
   "execution_count": null,
   "id": "3539d5e9-dd3b-45e8-a928-2f9b085a1efd",
   "metadata": {},
   "outputs": [],
   "source": []
  }
 ],
 "metadata": {
  "kernelspec": {
   "display_name": "Python 3 (ipykernel)",
   "language": "python",
   "name": "python3"
  },
  "language_info": {
   "codemirror_mode": {
    "name": "ipython",
    "version": 3
   },
   "file_extension": ".py",
   "mimetype": "text/x-python",
   "name": "python",
   "nbconvert_exporter": "python",
   "pygments_lexer": "ipython3",
   "version": "3.10.11"
  }
 },
 "nbformat": 4,
 "nbformat_minor": 5
}
