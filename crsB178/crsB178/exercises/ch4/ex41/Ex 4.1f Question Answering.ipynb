{
 "cells": [
  {
   "cell_type": "markdown",
   "id": "4f0c5171-aa40-40b3-b8ad-e6c330e3f13c",
   "metadata": {},
   "source": [
    "# Ex 4.1 Question Answering"
   ]
  },
  {
   "cell_type": "markdown",
   "id": "c11ace99-764e-4ffc-9a1b-339e574d90e5",
   "metadata": {},
   "source": [
    "Stop all the other kernels as this takes quite a bit of memory."
   ]
  },
  {
   "cell_type": "code",
   "execution_count": null,
   "id": "8fc313cc-650f-4c7a-a1c6-f3d0c1459eb8",
   "metadata": {},
   "outputs": [],
   "source": [
    "# Ignore this -- it is just for timing how long the program runs\n",
    "import time\n",
    "start = time.perf_counter()"
   ]
  },
  {
   "cell_type": "code",
   "execution_count": null,
   "id": "a01dde6e-124f-4eea-8215-9924bbfa9f12",
   "metadata": {},
   "outputs": [],
   "source": [
    "import transformers"
   ]
  },
  {
   "cell_type": "code",
   "execution_count": null,
   "id": "2ac64e2b-333e-49cf-b51f-031ac8067a97",
   "metadata": {},
   "outputs": [],
   "source": [
    "from transformers import pipeline"
   ]
  },
  {
   "cell_type": "markdown",
   "id": "b24354f2-193c-4a48-bf2b-05a2a82f24c4",
   "metadata": {},
   "source": [
    "Question anwering models take as input a question and a corpus of text in which you hope the answer can be found. This can be very useful when you have a lot of text and need to see if that text contains eh answer to a question."
   ]
  },
  {
   "cell_type": "code",
   "execution_count": null,
   "id": "7e3504fb-cc61-435c-be0b-573a8db892b7",
   "metadata": {},
   "outputs": [],
   "source": [
    "question_answerer = pipeline(\"question-answering\")\n",
    "question_answerer(\n",
    "    question=\"How long is a marathon?\",\n",
    "    context=\"\"\"The modern marathon event was created and later refined through the Olympic competition.\n",
    "    The idea of holding a marathon race at the first Olympics was suggested to Pierre de Coubertin by\n",
    "    Michel Bréal. Based upon a popular myth stemming from the Battle of Marathon, in which Pheidippides\n",
    "    ran to Athens from the town of Marathon, Greece to carry the message of a Greek victory, the 1896 \n",
    "    course began in the town of Marathon and finished in Athens' Panathenaic Stadium – a distance of \n",
    "    around 40 kilometres (25 mi).[1] On April 10, 1896, Greek water-carrier Spyridon Louis won the \n",
    "    first Olympic marathon in 2 hours 58 minutes and 50 seconds. The route between Marathon and P\n",
    "    anathenaic Stadium was repeated when Athens hosted the 2004 Games.\"\"\"\n",
    ")"
   ]
  },
  {
   "cell_type": "code",
   "execution_count": null,
   "id": "bab4e575-e355-41ea-b7ba-eff48840f6ba",
   "metadata": {},
   "outputs": [],
   "source": [
    "end = time.perf_counter()\n",
    "print(\"Time taken: in min\", (end - start)/60)"
   ]
  },
  {
   "cell_type": "code",
   "execution_count": null,
   "id": "8b7de999-7628-4965-9b33-d1d5b3f87dac",
   "metadata": {},
   "outputs": [],
   "source": []
  }
 ],
 "metadata": {
  "kernelspec": {
   "display_name": "Python 3 (ipykernel)",
   "language": "python",
   "name": "python3"
  },
  "language_info": {
   "codemirror_mode": {
    "name": "ipython",
    "version": 3
   },
   "file_extension": ".py",
   "mimetype": "text/x-python",
   "name": "python",
   "nbconvert_exporter": "python",
   "pygments_lexer": "ipython3",
   "version": "3.10.11"
  }
 },
 "nbformat": 4,
 "nbformat_minor": 5
}
