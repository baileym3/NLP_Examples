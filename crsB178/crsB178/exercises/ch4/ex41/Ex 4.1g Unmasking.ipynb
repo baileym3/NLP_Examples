{
 "cells": [
  {
   "cell_type": "markdown",
   "id": "4f0c5171-aa40-40b3-b8ad-e6c330e3f13c",
   "metadata": {},
   "source": [
    "# Ex 4.1 Unmasking"
   ]
  },
  {
   "cell_type": "markdown",
   "id": "c11ace99-764e-4ffc-9a1b-339e574d90e5",
   "metadata": {},
   "source": [
    "Stop all the other kernels as this takes quite a bit of memory."
   ]
  },
  {
   "cell_type": "code",
   "execution_count": null,
   "id": "e39359a1-75a9-41ba-977b-8b9fb9454704",
   "metadata": {},
   "outputs": [],
   "source": [
    "# Ignore this -- it is just for timing how long the program runs\n",
    "import time\n",
    "start = time.perf_counter()"
   ]
  },
  {
   "cell_type": "code",
   "execution_count": null,
   "id": "a01dde6e-124f-4eea-8215-9924bbfa9f12",
   "metadata": {},
   "outputs": [],
   "source": [
    "import transformers"
   ]
  },
  {
   "cell_type": "code",
   "execution_count": null,
   "id": "2ac64e2b-333e-49cf-b51f-031ac8067a97",
   "metadata": {},
   "outputs": [],
   "source": [
    "from transformers import pipeline"
   ]
  },
  {
   "cell_type": "markdown",
   "id": "a37b0936-584d-42ad-bc5f-eb2ab8614138",
   "metadata": {},
   "source": [
    "Unmasker predicts the word that is masked."
   ]
  },
  {
   "cell_type": "code",
   "execution_count": null,
   "id": "820c394b-95c7-4ad7-a761-f778e1c040a0",
   "metadata": {},
   "outputs": [],
   "source": [
    "unmasker = pipeline(\"fill-mask\",\n",
    "                   model=\"distilroberta-base\")\n",
    "unmasker(\"This course will teach you all about <mask> models.\", top_k=2)"
   ]
  },
  {
   "cell_type": "markdown",
   "id": "1e0aacfe-3565-48c2-8962-8149748c3fa0",
   "metadata": {},
   "source": [
    "*Try your own masked sentence*."
   ]
  },
  {
   "cell_type": "code",
   "execution_count": null,
   "id": "1e615f7b-e852-4978-bdba-75d0a8fcfdb3",
   "metadata": {},
   "outputs": [],
   "source": [
    "end = time.perf_counter()\n",
    "print(\"Time taken: in min\", (end - start)/60)"
   ]
  },
  {
   "cell_type": "code",
   "execution_count": null,
   "id": "9f865c06-64b0-4dc4-b57c-d1f626079d15",
   "metadata": {},
   "outputs": [],
   "source": []
  }
 ],
 "metadata": {
  "kernelspec": {
   "display_name": "Python 3 (ipykernel)",
   "language": "python",
   "name": "python3"
  },
  "language_info": {
   "codemirror_mode": {
    "name": "ipython",
    "version": 3
   },
   "file_extension": ".py",
   "mimetype": "text/x-python",
   "name": "python",
   "nbconvert_exporter": "python",
   "pygments_lexer": "ipython3",
   "version": "3.10.11"
  }
 },
 "nbformat": 4,
 "nbformat_minor": 5
}
