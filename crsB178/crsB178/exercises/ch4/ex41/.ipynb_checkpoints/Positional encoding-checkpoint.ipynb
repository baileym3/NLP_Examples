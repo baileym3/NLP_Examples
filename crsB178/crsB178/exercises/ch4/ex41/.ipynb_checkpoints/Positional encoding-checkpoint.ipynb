{
 "cells": [
  {
   "cell_type": "markdown",
   "id": "a50f7a2f-cd1e-41fa-b4fd-7dcb110a17bc",
   "metadata": {},
   "source": [
    "## Positional Encoding"
   ]
  },
  {
   "cell_type": "code",
   "execution_count": null,
   "id": "6e70a6cb-a73b-4996-81c1-7d173adc0cf3",
   "metadata": {},
   "outputs": [],
   "source": [
    "import numpy as np\n",
    "import matplotlib.pyplot as plt"
   ]
  },
  {
   "cell_type": "markdown",
   "id": "00c00f43-a70a-47bd-bbd9-cb98e13f7349",
   "metadata": {},
   "source": [
    "We will calculate some positional encodings\n",
    "Firse we define a method with the algorithm"
   ]
  },
  {
   "cell_type": "code",
   "execution_count": null,
   "id": "fad52d99-cd4f-42bc-89d5-7d42766c3a91",
   "metadata": {},
   "outputs": [],
   "source": [
    "def getPositionEncoding(seq_len, d, n=10000):\n",
    "    P = np.zeros((seq_len, d))\n",
    "    \n",
    "    for k in range(seq_len):\n",
    "        for i in np.arange(int(d/2)):\n",
    "            denominator = np.power(n, 2*i/d)\n",
    "            P[k, 2*i] = np.sin(k/denominator)\n",
    "            P[k, 2*i+1] = np.cos(k/denominator)\n",
    "        if(d%2 == 1): # When d is odd the indices end at an even number\n",
    "            i = int(d/2)\n",
    "            denominator = np.power(n, 2*i/d)\n",
    "            P[k, d-1] = np.sin(k/denominator)\n",
    "    return P"
   ]
  },
  {
   "cell_type": "code",
   "execution_count": null,
   "id": "75855f1f-28eb-4d58-9e9a-e67aaeadb02e",
   "metadata": {},
   "outputs": [],
   "source": [
    "P = getPositionEncoding(seq_len=4, d=5, n=100)\n",
    "print(P)"
   ]
  },
  {
   "cell_type": "code",
   "execution_count": null,
   "id": "58927f89-17c2-415a-81e2-6f4dfc5ff3ad",
   "metadata": {},
   "outputs": [],
   "source": [
    "P = getPositionEncoding(seq_len=10, d=6, n=100)\n",
    "print(P)"
   ]
  },
  {
   "cell_type": "code",
   "execution_count": null,
   "id": "01e3ac26-2719-4773-8342-e1d5702bfb48",
   "metadata": {},
   "outputs": [],
   "source": []
  }
 ],
 "metadata": {
  "kernelspec": {
   "display_name": "Python 3 (ipykernel)",
   "language": "python",
   "name": "python3"
  },
  "language_info": {
   "codemirror_mode": {
    "name": "ipython",
    "version": 3
   },
   "file_extension": ".py",
   "mimetype": "text/x-python",
   "name": "python",
   "nbconvert_exporter": "python",
   "pygments_lexer": "ipython3",
   "version": "3.10.11"
  }
 },
 "nbformat": 4,
 "nbformat_minor": 5
}
