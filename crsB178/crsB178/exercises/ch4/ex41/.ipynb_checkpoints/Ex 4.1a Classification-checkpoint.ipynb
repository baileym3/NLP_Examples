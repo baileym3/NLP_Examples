{
 "cells": [
  {
   "cell_type": "markdown",
   "id": "4f0c5171-aa40-40b3-b8ad-e6c330e3f13c",
   "metadata": {},
   "source": [
    "# Ex 4.1 Classification"
   ]
  },
  {
   "cell_type": "code",
   "execution_count": null,
   "id": "8668e8ce-5555-455d-ba53-36d7888dd9e9",
   "metadata": {},
   "outputs": [],
   "source": [
    "# Ignore this -- it is just for timing how long the program runs.\n",
    "import time\n",
    "start = time.perf_counter()"
   ]
  },
  {
   "cell_type": "code",
   "execution_count": null,
   "id": "a01dde6e-124f-4eea-8215-9924bbfa9f12",
   "metadata": {},
   "outputs": [],
   "source": [
    "import transformers"
   ]
  },
  {
   "cell_type": "code",
   "execution_count": null,
   "id": "2ac64e2b-333e-49cf-b51f-031ac8067a97",
   "metadata": {},
   "outputs": [],
   "source": [
    "from transformers import pipeline"
   ]
  },
  {
   "cell_type": "markdown",
   "id": "2f45358b-a649-41d5-a17e-31f35a409055",
   "metadata": {},
   "source": [
    "The term \"zero shot\" is used to mean a model that is used on data it was not trained specifically for. In this case the candidate labels are not ones the model was trained for but it still does a good job."
   ]
  },
  {
   "cell_type": "code",
   "execution_count": null,
   "id": "0157d692-fa16-40a7-9394-85104bc53339",
   "metadata": {},
   "outputs": [],
   "source": [
    "%%time\n",
    "# Takes about a minute.\n",
    "from transformers import pipeline\n",
    "classifier = pipeline(\"zero-shot-classification\", model=\"facebook/bart-large-mnli\")\n",
    "text_to_classify = \"This is a course about the Transformers library\"\n",
    "classifier(\n",
    "    text_to_classify,\n",
    "    candidate_labels=[\"education\", \"politics\", \"business\"],\n",
    ")"
   ]
  },
  {
   "cell_type": "markdown",
   "id": "3de96397-0e21-4464-a1cf-cd7e0cee6ca2",
   "metadata": {},
   "source": [
    "*Try your own text and candidate labels*."
   ]
  },
  {
   "cell_type": "code",
   "execution_count": null,
   "id": "92c96582-00b4-41dd-b846-cbd19d107249",
   "metadata": {},
   "outputs": [],
   "source": [
    "end = time.perf_counter()\n",
    "print(\"Time taken: in min\", (end - start)/60)"
   ]
  },
  {
   "cell_type": "code",
   "execution_count": null,
   "id": "9f4cde5d-0127-4180-b90c-30909e0decca",
   "metadata": {},
   "outputs": [],
   "source": []
  }
 ],
 "metadata": {
  "kernelspec": {
   "display_name": "Python 3 (ipykernel)",
   "language": "python",
   "name": "python3"
  },
  "language_info": {
   "codemirror_mode": {
    "name": "ipython",
    "version": 3
   },
   "file_extension": ".py",
   "mimetype": "text/x-python",
   "name": "python",
   "nbconvert_exporter": "python",
   "pygments_lexer": "ipython3",
   "version": "3.10.11"
  }
 },
 "nbformat": 4,
 "nbformat_minor": 5
}
