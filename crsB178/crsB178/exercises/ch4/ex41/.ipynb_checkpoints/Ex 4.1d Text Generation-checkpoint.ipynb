{
 "cells": [
  {
   "cell_type": "markdown",
   "id": "4f0c5171-aa40-40b3-b8ad-e6c330e3f13c",
   "metadata": {},
   "source": [
    "# Ex 4.1 Text Generation"
   ]
  },
  {
   "cell_type": "markdown",
   "id": "c11ace99-764e-4ffc-9a1b-339e574d90e5",
   "metadata": {},
   "source": [
    "Stop all the other kernels as this takes quite a bit of memory."
   ]
  },
  {
   "cell_type": "code",
   "execution_count": null,
   "id": "1337cb0a-f70d-4559-a6e4-51b51b5e76a9",
   "metadata": {},
   "outputs": [],
   "source": [
    "# Ignore this -- it is just for timing how long the program runs\n",
    "import time\n",
    "start = time.perf_counter()"
   ]
  },
  {
   "cell_type": "code",
   "execution_count": null,
   "id": "a01dde6e-124f-4eea-8215-9924bbfa9f12",
   "metadata": {},
   "outputs": [],
   "source": [
    "import transformers"
   ]
  },
  {
   "cell_type": "markdown",
   "id": "bcef325c-cf24-412b-bafd-3971a5a2b5aa",
   "metadata": {},
   "source": [
    "Pipeline connects a model to its preprocessing and post processing steps\n",
    "this pipeline selects a particular pretrained model that has been fine-tuned text generation in English"
   ]
  },
  {
   "cell_type": "code",
   "execution_count": null,
   "id": "2ac64e2b-333e-49cf-b51f-031ac8067a97",
   "metadata": {},
   "outputs": [],
   "source": [
    "from transformers import pipeline"
   ]
  },
  {
   "cell_type": "markdown",
   "id": "0a984702-8147-48c0-aef7-e2be4e9adfde",
   "metadata": {},
   "source": [
    "We give the generator a seed phrase and it makes up some text to follow the seed"
   ]
  },
  {
   "cell_type": "code",
   "execution_count": null,
   "id": "06a630af-dd2e-4dc2-9192-1b92fef78ac6",
   "metadata": {},
   "outputs": [],
   "source": [
    "%%time\n",
    "# Takes about a minute.\n",
    "generator = pipeline(\"text-generation\", \n",
    "                     model=\"gpt2\",\n",
    "                    )\n",
    "generator(\"In this course, we will teach you how to\", max_length=100)"
   ]
  },
  {
   "cell_type": "markdown",
   "id": "466e82fa-b914-4668-997e-5f4cd7a4be70",
   "metadata": {},
   "source": [
    "*After it is done, try your own seed sentence*."
   ]
  },
  {
   "cell_type": "code",
   "execution_count": null,
   "id": "d47fe5da-bbd2-4f0f-8301-3130af04057f",
   "metadata": {},
   "outputs": [],
   "source": [
    "end = time.perf_counter()\n",
    "print(\"Time taken: in min\", (end - start)/60)"
   ]
  },
  {
   "cell_type": "code",
   "execution_count": null,
   "id": "e2de58c8-d46e-465f-8072-6d26b13c4a27",
   "metadata": {},
   "outputs": [],
   "source": []
  }
 ],
 "metadata": {
  "kernelspec": {
   "display_name": "Python 3 (ipykernel)",
   "language": "python",
   "name": "python3"
  },
  "language_info": {
   "codemirror_mode": {
    "name": "ipython",
    "version": 3
   },
   "file_extension": ".py",
   "mimetype": "text/x-python",
   "name": "python",
   "nbconvert_exporter": "python",
   "pygments_lexer": "ipython3",
   "version": "3.10.11"
  }
 },
 "nbformat": 4,
 "nbformat_minor": 5
}
