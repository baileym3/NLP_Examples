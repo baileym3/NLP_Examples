{
 "cells": [
  {
   "cell_type": "markdown",
   "id": "4f0c5171-aa40-40b3-b8ad-e6c330e3f13c",
   "metadata": {},
   "source": [
    "# Ex 4.1 Text Summarization"
   ]
  },
  {
   "cell_type": "markdown",
   "id": "c11ace99-764e-4ffc-9a1b-339e574d90e5",
   "metadata": {},
   "source": [
    "Stop all the other kernels as this takes quite a bit of memory."
   ]
  },
  {
   "cell_type": "code",
   "execution_count": null,
   "id": "69fb9a60-82b3-4c73-a2d2-36864f0ebd00",
   "metadata": {},
   "outputs": [],
   "source": [
    "# Ignore this -- it is just for timing how long the program runs\n",
    "import time\n",
    "start = time.perf_counter()"
   ]
  },
  {
   "cell_type": "code",
   "execution_count": null,
   "id": "a01dde6e-124f-4eea-8215-9924bbfa9f12",
   "metadata": {},
   "outputs": [],
   "source": [
    "import transformers"
   ]
  },
  {
   "cell_type": "code",
   "execution_count": null,
   "id": "e6ef7a3b-d268-4c09-b16a-8984a73ccdfb",
   "metadata": {},
   "outputs": [],
   "source": [
    "import warnings\n",
    "warnings.filterwarnings(\"ignore\")"
   ]
  },
  {
   "cell_type": "code",
   "execution_count": null,
   "id": "2ac64e2b-333e-49cf-b51f-031ac8067a97",
   "metadata": {},
   "outputs": [],
   "source": [
    "from transformers import pipeline"
   ]
  },
  {
   "cell_type": "code",
   "execution_count": null,
   "id": "eba5e7a2-e1a7-4371-86f1-898e1da8922c",
   "metadata": {},
   "outputs": [],
   "source": [
    "summarizer = pipeline(\"summarization\",\n",
    "                     model=\"sshleifer/distilbart-cnn-12-6\")\n",
    "summarizer(\"\"\"\n",
    "    Ford raised its expectation for full-year adjusted earnings before taxes by about $3.5 billion, \n",
    "    to between $9 billion and $10 billion. Sales volume is expected to increase by about 30% from \n",
    "    the first to the second half of the year, driven by an improvement in market factors, according\n",
    "    to the company.\n",
    "\n",
    "Despite the increase, Ford said the second half of the year will be weaker than the first regarding \n",
    "its operating profit. CFO John Lawler cited $3 billion to $4 billion in favorable higher volumes, \n",
    "but said commodity costs, lower earnings from Ford Credit and other factors such as higher warranty \n",
    "costs will drag down its results.\n",
    "\n",
    "Ford’s stock was up by about 4% in after-hours trading to more than $14.30 a share. Shares of \n",
    "the automaker have more than doubled since Jim Farley became CEO in October, including a more \n",
    "than 50% jump so far this year.\n",
    "\"\"\", min_length=40)"
   ]
  },
  {
   "cell_type": "code",
   "execution_count": null,
   "id": "bab4e575-e355-41ea-b7ba-eff48840f6ba",
   "metadata": {},
   "outputs": [],
   "source": [
    "end = time.perf_counter()\n",
    "print(\"Time taken: in min\", (end - start)/60)"
   ]
  },
  {
   "cell_type": "code",
   "execution_count": null,
   "id": "55696503-7037-41b9-ac1c-884168bccd2f",
   "metadata": {},
   "outputs": [],
   "source": []
  }
 ],
 "metadata": {
  "kernelspec": {
   "display_name": "Python 3 (ipykernel)",
   "language": "python",
   "name": "python3"
  },
  "language_info": {
   "codemirror_mode": {
    "name": "ipython",
    "version": 3
   },
   "file_extension": ".py",
   "mimetype": "text/x-python",
   "name": "python",
   "nbconvert_exporter": "python",
   "pygments_lexer": "ipython3",
   "version": "3.10.11"
  }
 },
 "nbformat": 4,
 "nbformat_minor": 5
}
