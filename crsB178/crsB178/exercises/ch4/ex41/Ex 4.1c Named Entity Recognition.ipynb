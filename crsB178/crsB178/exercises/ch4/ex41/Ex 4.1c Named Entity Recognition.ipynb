{
 "cells": [
  {
   "cell_type": "markdown",
   "id": "4f0c5171-aa40-40b3-b8ad-e6c330e3f13c",
   "metadata": {},
   "source": [
    "# Ex 4.1 Named Entity Recognition"
   ]
  },
  {
   "cell_type": "markdown",
   "id": "c11ace99-764e-4ffc-9a1b-339e574d90e5",
   "metadata": {},
   "source": [
    "Stop all the other kernels as this takes quite a bit of memory."
   ]
  },
  {
   "cell_type": "code",
   "execution_count": null,
   "id": "5f4cb57a-41b2-40e3-a1b3-c3d4fab9219a",
   "metadata": {},
   "outputs": [],
   "source": [
    "# Ignore this -- it is just for timing how long the program runs\n",
    "import time\n",
    "start = time.perf_counter()"
   ]
  },
  {
   "cell_type": "code",
   "execution_count": null,
   "id": "a01dde6e-124f-4eea-8215-9924bbfa9f12",
   "metadata": {},
   "outputs": [],
   "source": [
    "import transformers"
   ]
  },
  {
   "cell_type": "markdown",
   "id": "bcef325c-cf24-412b-bafd-3971a5a2b5aa",
   "metadata": {},
   "source": [
    "Pipeline connects a model to its preprocessing and post processing steps This pipeline selects a particular pretrained model that has been fine-tuned for named entity recognition in English"
   ]
  },
  {
   "cell_type": "code",
   "execution_count": null,
   "id": "2ac64e2b-333e-49cf-b51f-031ac8067a97",
   "metadata": {},
   "outputs": [],
   "source": [
    "from transformers import pipeline"
   ]
  },
  {
   "cell_type": "code",
   "execution_count": null,
   "id": "a284236c-034a-48be-b7d1-f07f8e7247a6",
   "metadata": {},
   "outputs": [],
   "source": [
    "ner = pipeline(\"ner\",\n",
    "               model=\"dbmdz/bert-large-cased-finetuned-conll03-english\",\n",
    "               grouped_entities=True)\n",
    "ner(\"My name is Jane and I work at the Amazon Warehouse in Atlanta.\")"
   ]
  },
  {
   "cell_type": "markdown",
   "id": "631bfff2-2b94-4b6c-acdf-cc59e652f757",
   "metadata": {},
   "source": [
    "*Try your own text*."
   ]
  },
  {
   "cell_type": "code",
   "execution_count": null,
   "id": "7b6fb2f3-9a0c-4bc2-a26c-3dc7b7029be3",
   "metadata": {},
   "outputs": [],
   "source": [
    "end = time.perf_counter()\n",
    "print(\"Time taken: in min\", (end - start)/60)"
   ]
  },
  {
   "cell_type": "code",
   "execution_count": null,
   "id": "9f985211-91d3-4815-ac71-1f451c5e16ae",
   "metadata": {},
   "outputs": [],
   "source": []
  }
 ],
 "metadata": {
  "kernelspec": {
   "display_name": "Python 3 (ipykernel)",
   "language": "python",
   "name": "python3"
  },
  "language_info": {
   "codemirror_mode": {
    "name": "ipython",
    "version": 3
   },
   "file_extension": ".py",
   "mimetype": "text/x-python",
   "name": "python",
   "nbconvert_exporter": "python",
   "pygments_lexer": "ipython3",
   "version": "3.10.11"
  }
 },
 "nbformat": 4,
 "nbformat_minor": 5
}
