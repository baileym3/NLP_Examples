{
 "cells": [
  {
   "cell_type": "markdown",
   "id": "422fee31-1dda-450e-94b6-162cb6643fdc",
   "metadata": {},
   "source": [
    " From Applied Natural Language Processing in the Enterprise ch1"
   ]
  },
  {
   "cell_type": "code",
   "execution_count": 1,
   "id": "515751d7-667b-4921-8f86-6d498fe4af96",
   "metadata": {},
   "outputs": [],
   "source": [
    "import transformers\n"
   ]
  },
  {
   "cell_type": "code",
   "execution_count": 2,
   "id": "9bf67cf1-aeb1-42c0-8bcf-d1a7ebc33235",
   "metadata": {},
   "outputs": [
    {
     "data": {
      "text/plain": [
       "\u001b[0;31mType:\u001b[0m            _LazyModule\n",
       "\u001b[0;31mString form:\u001b[0m     <module 'transformers' from '/home/user/anaconda3/envs/crs1278/lib/python3.6/site-packages/transformers/__init__.py'>\n",
       "\u001b[0;31mFile:\u001b[0m            ~/anaconda3/envs/crs1278/lib/python3.6/site-packages/transformers/__init__.py\n",
       "\u001b[0;31mDocstring:\u001b[0m       <no docstring>\n",
       "\u001b[0;31mClass docstring:\u001b[0m Module class that surfaces all objects but only performs associated imports when the objects are requested.\n"
      ]
     },
     "metadata": {},
     "output_type": "display_data"
    }
   ],
   "source": [
    "?transformers"
   ]
  },
  {
   "cell_type": "code",
   "execution_count": 3,
   "id": "b6a28b48-ac56-4e3e-94f2-a9bdb1bf5afe",
   "metadata": {},
   "outputs": [],
   "source": [
    "from transformers import pipeline"
   ]
  },
  {
   "cell_type": "code",
   "execution_count": 4,
   "id": "b20e3fc3-f3ec-4256-bd46-e91405371184",
   "metadata": {},
   "outputs": [],
   "source": [
    "classifier = pipeline(\"sentiment-analysis\")"
   ]
  },
  {
   "cell_type": "code",
   "execution_count": 5,
   "id": "ac994bb8-a1ed-4cee-8a2f-97d7a2c33031",
   "metadata": {},
   "outputs": [
    {
     "data": {
      "text/plain": [
       "[{'label': 'POSITIVE', 'score': 0.9998669028282166}]"
      ]
     },
     "execution_count": 5,
     "metadata": {},
     "output_type": "execute_result"
    }
   ],
   "source": [
    "classifier(\"This is lovely!\")"
   ]
  },
  {
   "cell_type": "code",
   "execution_count": 6,
   "id": "c329041c-87ac-401e-bad4-e4e9fdf5e8b9",
   "metadata": {},
   "outputs": [],
   "source": [
    "text_generator = pipeline(\"text-generation\")"
   ]
  },
  {
   "cell_type": "code",
   "execution_count": 7,
   "id": "1fbe37ba-101a-4531-9154-4c6addc9c0cc",
   "metadata": {},
   "outputs": [
    {
     "name": "stderr",
     "output_type": "stream",
     "text": [
      "Setting `pad_token_id` to `eos_token_id`:50256 for open-end generation.\n"
     ]
    },
    {
     "data": {
      "text/plain": [
       "[{'generated_text': 'Did you not see my lady? \\xa0She was in the middle of the road, and I was trying to get her to stop. \\xa0She was trying to get out of the way, and I was trying to get her to stop.'}]"
      ]
     },
     "execution_count": 7,
     "metadata": {},
     "output_type": "execute_result"
    }
   ],
   "source": [
    "text_generator(\"Did you not see my lady? \", max_length=50, do_sample=False)"
   ]
  },
  {
   "cell_type": "markdown",
   "id": "29ffa949-537d-4688-b188-d219c44cf5c8",
   "metadata": {},
   "source": [
    "# spaCy"
   ]
  },
  {
   "cell_type": "code",
   "execution_count": 11,
   "id": "8e898c75-e5c5-47c3-9e89-fe7407727547",
   "metadata": {},
   "outputs": [
    {
     "name": "stdout",
     "output_type": "stream",
     "text": [
      "Collecting en-core-web-trf==3.1.0\n",
      "  Downloading https://github.com/explosion/spacy-models/releases/download/en_core_web_trf-3.1.0/en_core_web_trf-3.1.0-py3-none-any.whl (460.2 MB)\n",
      "\u001b[K     |███████████████████████         | 329.7 MB 94.6 MB/s eta 0:00:02"
     ]
    },
    {
     "name": "stderr",
     "output_type": "stream",
     "text": [
      "IOPub data rate exceeded.\n",
      "The Jupyter server will temporarily stop sending output\n",
      "to the client in order to avoid crashing it.\n",
      "To change this limit, set the config variable\n",
      "`--ServerApp.iopub_data_rate_limit`.\n",
      "\n",
      "Current values:\n",
      "ServerApp.iopub_data_rate_limit=1000000.0 (bytes/sec)\n",
      "ServerApp.rate_limit_window=3.0 (secs)\n",
      "\n"
     ]
    },
    {
     "name": "stdout",
     "output_type": "stream",
     "text": [
      "\u001b[K     |████████████████████████████████| 460.2 MB 1.7 kB/s  eta 0:00:011\n",
      "\u001b[?25hRequirement already satisfied: spacy-transformers<1.1.0,>=1.0.3 in /home/user/anaconda3/envs/crs1278/lib/python3.6/site-packages (from en-core-web-trf==3.1.0) (1.0.3)\n",
      "Requirement already satisfied: spacy<3.2.0,>=3.1.0 in /home/user/anaconda3/envs/crs1278/lib/python3.6/site-packages (from en-core-web-trf==3.1.0) (3.1.1)\n",
      "Requirement already satisfied: wasabi<1.1.0,>=0.8.1 in /home/user/anaconda3/envs/crs1278/lib/python3.6/site-packages (from spacy<3.2.0,>=3.1.0->en-core-web-trf==3.1.0) (0.8.2)\n",
      "Requirement already satisfied: tqdm<5.0.0,>=4.38.0 in /home/user/anaconda3/envs/crs1278/lib/python3.6/site-packages (from spacy<3.2.0,>=3.1.0->en-core-web-trf==3.1.0) (4.62.0)\n",
      "Requirement already satisfied: cymem<2.1.0,>=2.0.2 in /home/user/anaconda3/envs/crs1278/lib/python3.6/site-packages (from spacy<3.2.0,>=3.1.0->en-core-web-trf==3.1.0) (2.0.5)\n",
      "Requirement already satisfied: thinc<8.1.0,>=8.0.8 in /home/user/anaconda3/envs/crs1278/lib/python3.6/site-packages (from spacy<3.2.0,>=3.1.0->en-core-web-trf==3.1.0) (8.0.8)\n",
      "Requirement already satisfied: blis<0.8.0,>=0.4.0 in /home/user/anaconda3/envs/crs1278/lib/python3.6/site-packages (from spacy<3.2.0,>=3.1.0->en-core-web-trf==3.1.0) (0.7.4)\n",
      "Requirement already satisfied: requests<3.0.0,>=2.13.0 in /home/user/anaconda3/envs/crs1278/lib/python3.6/site-packages (from spacy<3.2.0,>=3.1.0->en-core-web-trf==3.1.0) (2.25.1)\n",
      "Requirement already satisfied: typer<0.4.0,>=0.3.0 in /home/user/anaconda3/envs/crs1278/lib/python3.6/site-packages (from spacy<3.2.0,>=3.1.0->en-core-web-trf==3.1.0) (0.3.2)\n",
      "Requirement already satisfied: numpy>=1.15.0 in /home/user/anaconda3/envs/crs1278/lib/python3.6/site-packages (from spacy<3.2.0,>=3.1.0->en-core-web-trf==3.1.0) (1.19.2)\n",
      "Requirement already satisfied: pydantic!=1.8,!=1.8.1,<1.9.0,>=1.7.4 in /home/user/anaconda3/envs/crs1278/lib/python3.6/site-packages (from spacy<3.2.0,>=3.1.0->en-core-web-trf==3.1.0) (1.8.2)\n",
      "Requirement already satisfied: murmurhash<1.1.0,>=0.28.0 in /home/user/anaconda3/envs/crs1278/lib/python3.6/site-packages (from spacy<3.2.0,>=3.1.0->en-core-web-trf==3.1.0) (1.0.5)\n",
      "Requirement already satisfied: preshed<3.1.0,>=3.0.2 in /home/user/anaconda3/envs/crs1278/lib/python3.6/site-packages (from spacy<3.2.0,>=3.1.0->en-core-web-trf==3.1.0) (3.0.5)\n",
      "Requirement already satisfied: packaging>=20.0 in /home/user/anaconda3/envs/crs1278/lib/python3.6/site-packages (from spacy<3.2.0,>=3.1.0->en-core-web-trf==3.1.0) (21.0)\n",
      "Requirement already satisfied: typing-extensions<4.0.0.0,>=3.7.4 in /home/user/anaconda3/envs/crs1278/lib/python3.6/site-packages (from spacy<3.2.0,>=3.1.0->en-core-web-trf==3.1.0) (3.10.0.0)\n",
      "Requirement already satisfied: jinja2 in /home/user/anaconda3/envs/crs1278/lib/python3.6/site-packages (from spacy<3.2.0,>=3.1.0->en-core-web-trf==3.1.0) (3.0.1)\n",
      "Requirement already satisfied: spacy-legacy<3.1.0,>=3.0.7 in /home/user/anaconda3/envs/crs1278/lib/python3.6/site-packages (from spacy<3.2.0,>=3.1.0->en-core-web-trf==3.1.0) (3.0.8)\n",
      "Requirement already satisfied: pathy>=0.3.5 in /home/user/anaconda3/envs/crs1278/lib/python3.6/site-packages (from spacy<3.2.0,>=3.1.0->en-core-web-trf==3.1.0) (0.6.0)\n",
      "Requirement already satisfied: srsly<3.0.0,>=2.4.1 in /home/user/anaconda3/envs/crs1278/lib/python3.6/site-packages (from spacy<3.2.0,>=3.1.0->en-core-web-trf==3.1.0) (2.4.1)\n",
      "Requirement already satisfied: catalogue<2.1.0,>=2.0.4 in /home/user/anaconda3/envs/crs1278/lib/python3.6/site-packages (from spacy<3.2.0,>=3.1.0->en-core-web-trf==3.1.0) (2.0.4)\n",
      "Requirement already satisfied: setuptools in /home/user/anaconda3/envs/crs1278/lib/python3.6/site-packages (from spacy<3.2.0,>=3.1.0->en-core-web-trf==3.1.0) (52.0.0.post20210125)\n",
      "Requirement already satisfied: zipp>=0.5 in /home/user/anaconda3/envs/crs1278/lib/python3.6/site-packages (from catalogue<2.1.0,>=2.0.4->spacy<3.2.0,>=3.1.0->en-core-web-trf==3.1.0) (3.5.0)\n",
      "Requirement already satisfied: pyparsing>=2.0.2 in /home/user/anaconda3/envs/crs1278/lib/python3.6/site-packages (from packaging>=20.0->spacy<3.2.0,>=3.1.0->en-core-web-trf==3.1.0) (2.4.7)\n",
      "Requirement already satisfied: smart-open<6.0.0,>=5.0.0 in /home/user/anaconda3/envs/crs1278/lib/python3.6/site-packages (from pathy>=0.3.5->spacy<3.2.0,>=3.1.0->en-core-web-trf==3.1.0) (5.1.0)\n",
      "Requirement already satisfied: dataclasses<1.0,>=0.6 in /home/user/anaconda3/envs/crs1278/lib/python3.6/site-packages (from pathy>=0.3.5->spacy<3.2.0,>=3.1.0->en-core-web-trf==3.1.0) (0.8)\n",
      "Requirement already satisfied: chardet<5,>=3.0.2 in /home/user/anaconda3/envs/crs1278/lib/python3.6/site-packages (from requests<3.0.0,>=2.13.0->spacy<3.2.0,>=3.1.0->en-core-web-trf==3.1.0) (3.0.4)\n",
      "Requirement already satisfied: idna<3,>=2.5 in /home/user/anaconda3/envs/crs1278/lib/python3.6/site-packages (from requests<3.0.0,>=2.13.0->spacy<3.2.0,>=3.1.0->en-core-web-trf==3.1.0) (2.10)\n",
      "Requirement already satisfied: urllib3<1.27,>=1.21.1 in /home/user/anaconda3/envs/crs1278/lib/python3.6/site-packages (from requests<3.0.0,>=2.13.0->spacy<3.2.0,>=3.1.0->en-core-web-trf==3.1.0) (1.26.6)\n",
      "Requirement already satisfied: certifi>=2017.4.17 in /home/user/anaconda3/envs/crs1278/lib/python3.6/site-packages (from requests<3.0.0,>=2.13.0->spacy<3.2.0,>=3.1.0->en-core-web-trf==3.1.0) (2021.5.30)\n",
      "Requirement already satisfied: transformers<4.7.0,>=3.4.0 in /home/user/anaconda3/envs/crs1278/lib/python3.6/site-packages (from spacy-transformers<1.1.0,>=1.0.3->en-core-web-trf==3.1.0) (4.6.1)\n",
      "Requirement already satisfied: spacy-alignments<1.0.0,>=0.7.2 in /home/user/anaconda3/envs/crs1278/lib/python3.6/site-packages (from spacy-transformers<1.1.0,>=1.0.3->en-core-web-trf==3.1.0) (0.8.3)\n",
      "Requirement already satisfied: torch>=1.5.0 in /home/user/anaconda3/envs/crs1278/lib/python3.6/site-packages (from spacy-transformers<1.1.0,>=1.0.3->en-core-web-trf==3.1.0) (1.9.0)\n",
      "Requirement already satisfied: contextvars<3,>=2.4 in /home/user/anaconda3/envs/crs1278/lib/python3.6/site-packages (from thinc<8.1.0,>=8.0.8->spacy<3.2.0,>=3.1.0->en-core-web-trf==3.1.0) (2.4)\n",
      "Requirement already satisfied: immutables>=0.9 in /home/user/anaconda3/envs/crs1278/lib/python3.6/site-packages (from contextvars<3,>=2.4->thinc<8.1.0,>=8.0.8->spacy<3.2.0,>=3.1.0->en-core-web-trf==3.1.0) (0.15)\n",
      "Requirement already satisfied: tokenizers<0.11,>=0.10.1 in /home/user/anaconda3/envs/crs1278/lib/python3.6/site-packages (from transformers<4.7.0,>=3.4.0->spacy-transformers<1.1.0,>=1.0.3->en-core-web-trf==3.1.0) (0.10.1)\n",
      "Requirement already satisfied: regex!=2019.12.17 in /home/user/anaconda3/envs/crs1278/lib/python3.6/site-packages (from transformers<4.7.0,>=3.4.0->spacy-transformers<1.1.0,>=1.0.3->en-core-web-trf==3.1.0) (2021.7.6)\n",
      "Requirement already satisfied: sacremoses in /home/user/anaconda3/envs/crs1278/lib/python3.6/site-packages (from transformers<4.7.0,>=3.4.0->spacy-transformers<1.1.0,>=1.0.3->en-core-web-trf==3.1.0) (0.0.43)\n",
      "Requirement already satisfied: filelock in /home/user/anaconda3/envs/crs1278/lib/python3.6/site-packages (from transformers<4.7.0,>=3.4.0->spacy-transformers<1.1.0,>=1.0.3->en-core-web-trf==3.1.0) (3.0.12)\n",
      "Requirement already satisfied: huggingface-hub==0.0.8 in /home/user/anaconda3/envs/crs1278/lib/python3.6/site-packages (from transformers<4.7.0,>=3.4.0->spacy-transformers<1.1.0,>=1.0.3->en-core-web-trf==3.1.0) (0.0.8)\n",
      "Requirement already satisfied: importlib-metadata in /home/user/anaconda3/envs/crs1278/lib/python3.6/site-packages (from transformers<4.7.0,>=3.4.0->spacy-transformers<1.1.0,>=1.0.3->en-core-web-trf==3.1.0) (3.10.0)\n",
      "Requirement already satisfied: click<7.2.0,>=7.1.1 in /home/user/anaconda3/envs/crs1278/lib/python3.6/site-packages (from typer<0.4.0,>=0.3.0->spacy<3.2.0,>=3.1.0->en-core-web-trf==3.1.0) (7.1.2)\n",
      "Requirement already satisfied: MarkupSafe>=2.0 in /home/user/anaconda3/envs/crs1278/lib/python3.6/site-packages (from jinja2->spacy<3.2.0,>=3.1.0->en-core-web-trf==3.1.0) (2.0.1)\n",
      "Requirement already satisfied: six in /home/user/anaconda3/envs/crs1278/lib/python3.6/site-packages (from sacremoses->transformers<4.7.0,>=3.4.0->spacy-transformers<1.1.0,>=1.0.3->en-core-web-trf==3.1.0) (1.16.0)\n",
      "Requirement already satisfied: joblib in /home/user/anaconda3/envs/crs1278/lib/python3.6/site-packages (from sacremoses->transformers<4.7.0,>=3.4.0->spacy-transformers<1.1.0,>=1.0.3->en-core-web-trf==3.1.0) (1.0.1)\n",
      "\u001b[38;5;2m✔ Download and installation successful\u001b[0m\n",
      "You can now load the package via spacy.load('en_core_web_trf')\n",
      "Collecting en-core-web-sm==3.1.0\n",
      "  Downloading https://github.com/explosion/spacy-models/releases/download/en_core_web_sm-3.1.0/en_core_web_sm-3.1.0-py3-none-any.whl (13.6 MB)\n",
      "\u001b[K     |████████████████████████████████| 13.6 MB 15.6 MB/s eta 0:00:01\n",
      "\u001b[?25hRequirement already satisfied: spacy<3.2.0,>=3.1.0 in /home/user/anaconda3/envs/crs1278/lib/python3.6/site-packages (from en-core-web-sm==3.1.0) (3.1.1)\n",
      "Requirement already satisfied: thinc<8.1.0,>=8.0.8 in /home/user/anaconda3/envs/crs1278/lib/python3.6/site-packages (from spacy<3.2.0,>=3.1.0->en-core-web-sm==3.1.0) (8.0.8)\n",
      "Requirement already satisfied: requests<3.0.0,>=2.13.0 in /home/user/anaconda3/envs/crs1278/lib/python3.6/site-packages (from spacy<3.2.0,>=3.1.0->en-core-web-sm==3.1.0) (2.25.1)\n",
      "Requirement already satisfied: cymem<2.1.0,>=2.0.2 in /home/user/anaconda3/envs/crs1278/lib/python3.6/site-packages (from spacy<3.2.0,>=3.1.0->en-core-web-sm==3.1.0) (2.0.5)\n",
      "Requirement already satisfied: blis<0.8.0,>=0.4.0 in /home/user/anaconda3/envs/crs1278/lib/python3.6/site-packages (from spacy<3.2.0,>=3.1.0->en-core-web-sm==3.1.0) (0.7.4)\n",
      "Requirement already satisfied: catalogue<2.1.0,>=2.0.4 in /home/user/anaconda3/envs/crs1278/lib/python3.6/site-packages (from spacy<3.2.0,>=3.1.0->en-core-web-sm==3.1.0) (2.0.4)\n",
      "Requirement already satisfied: setuptools in /home/user/anaconda3/envs/crs1278/lib/python3.6/site-packages (from spacy<3.2.0,>=3.1.0->en-core-web-sm==3.1.0) (52.0.0.post20210125)\n",
      "Requirement already satisfied: packaging>=20.0 in /home/user/anaconda3/envs/crs1278/lib/python3.6/site-packages (from spacy<3.2.0,>=3.1.0->en-core-web-sm==3.1.0) (21.0)\n",
      "Requirement already satisfied: typing-extensions<4.0.0.0,>=3.7.4 in /home/user/anaconda3/envs/crs1278/lib/python3.6/site-packages (from spacy<3.2.0,>=3.1.0->en-core-web-sm==3.1.0) (3.10.0.0)\n",
      "Requirement already satisfied: murmurhash<1.1.0,>=0.28.0 in /home/user/anaconda3/envs/crs1278/lib/python3.6/site-packages (from spacy<3.2.0,>=3.1.0->en-core-web-sm==3.1.0) (1.0.5)\n",
      "Requirement already satisfied: jinja2 in /home/user/anaconda3/envs/crs1278/lib/python3.6/site-packages (from spacy<3.2.0,>=3.1.0->en-core-web-sm==3.1.0) (3.0.1)\n",
      "Requirement already satisfied: numpy>=1.15.0 in /home/user/anaconda3/envs/crs1278/lib/python3.6/site-packages (from spacy<3.2.0,>=3.1.0->en-core-web-sm==3.1.0) (1.19.2)\n",
      "Requirement already satisfied: wasabi<1.1.0,>=0.8.1 in /home/user/anaconda3/envs/crs1278/lib/python3.6/site-packages (from spacy<3.2.0,>=3.1.0->en-core-web-sm==3.1.0) (0.8.2)\n",
      "Requirement already satisfied: pydantic!=1.8,!=1.8.1,<1.9.0,>=1.7.4 in /home/user/anaconda3/envs/crs1278/lib/python3.6/site-packages (from spacy<3.2.0,>=3.1.0->en-core-web-sm==3.1.0) (1.8.2)\n",
      "Requirement already satisfied: typer<0.4.0,>=0.3.0 in /home/user/anaconda3/envs/crs1278/lib/python3.6/site-packages (from spacy<3.2.0,>=3.1.0->en-core-web-sm==3.1.0) (0.3.2)\n",
      "Requirement already satisfied: tqdm<5.0.0,>=4.38.0 in /home/user/anaconda3/envs/crs1278/lib/python3.6/site-packages (from spacy<3.2.0,>=3.1.0->en-core-web-sm==3.1.0) (4.62.0)\n",
      "Requirement already satisfied: srsly<3.0.0,>=2.4.1 in /home/user/anaconda3/envs/crs1278/lib/python3.6/site-packages (from spacy<3.2.0,>=3.1.0->en-core-web-sm==3.1.0) (2.4.1)\n",
      "Requirement already satisfied: preshed<3.1.0,>=3.0.2 in /home/user/anaconda3/envs/crs1278/lib/python3.6/site-packages (from spacy<3.2.0,>=3.1.0->en-core-web-sm==3.1.0) (3.0.5)\n",
      "Requirement already satisfied: pathy>=0.3.5 in /home/user/anaconda3/envs/crs1278/lib/python3.6/site-packages (from spacy<3.2.0,>=3.1.0->en-core-web-sm==3.1.0) (0.6.0)\n",
      "Requirement already satisfied: spacy-legacy<3.1.0,>=3.0.7 in /home/user/anaconda3/envs/crs1278/lib/python3.6/site-packages (from spacy<3.2.0,>=3.1.0->en-core-web-sm==3.1.0) (3.0.8)\n",
      "Requirement already satisfied: zipp>=0.5 in /home/user/anaconda3/envs/crs1278/lib/python3.6/site-packages (from catalogue<2.1.0,>=2.0.4->spacy<3.2.0,>=3.1.0->en-core-web-sm==3.1.0) (3.5.0)\n",
      "Requirement already satisfied: pyparsing>=2.0.2 in /home/user/anaconda3/envs/crs1278/lib/python3.6/site-packages (from packaging>=20.0->spacy<3.2.0,>=3.1.0->en-core-web-sm==3.1.0) (2.4.7)\n",
      "Requirement already satisfied: dataclasses<1.0,>=0.6 in /home/user/anaconda3/envs/crs1278/lib/python3.6/site-packages (from pathy>=0.3.5->spacy<3.2.0,>=3.1.0->en-core-web-sm==3.1.0) (0.8)\n",
      "Requirement already satisfied: smart-open<6.0.0,>=5.0.0 in /home/user/anaconda3/envs/crs1278/lib/python3.6/site-packages (from pathy>=0.3.5->spacy<3.2.0,>=3.1.0->en-core-web-sm==3.1.0) (5.1.0)\n",
      "Requirement already satisfied: certifi>=2017.4.17 in /home/user/anaconda3/envs/crs1278/lib/python3.6/site-packages (from requests<3.0.0,>=2.13.0->spacy<3.2.0,>=3.1.0->en-core-web-sm==3.1.0) (2021.5.30)\n",
      "Requirement already satisfied: chardet<5,>=3.0.2 in /home/user/anaconda3/envs/crs1278/lib/python3.6/site-packages (from requests<3.0.0,>=2.13.0->spacy<3.2.0,>=3.1.0->en-core-web-sm==3.1.0) (3.0.4)\n",
      "Requirement already satisfied: idna<3,>=2.5 in /home/user/anaconda3/envs/crs1278/lib/python3.6/site-packages (from requests<3.0.0,>=2.13.0->spacy<3.2.0,>=3.1.0->en-core-web-sm==3.1.0) (2.10)\n",
      "Requirement already satisfied: urllib3<1.27,>=1.21.1 in /home/user/anaconda3/envs/crs1278/lib/python3.6/site-packages (from requests<3.0.0,>=2.13.0->spacy<3.2.0,>=3.1.0->en-core-web-sm==3.1.0) (1.26.6)\n",
      "Requirement already satisfied: contextvars<3,>=2.4 in /home/user/anaconda3/envs/crs1278/lib/python3.6/site-packages (from thinc<8.1.0,>=8.0.8->spacy<3.2.0,>=3.1.0->en-core-web-sm==3.1.0) (2.4)\n",
      "Requirement already satisfied: immutables>=0.9 in /home/user/anaconda3/envs/crs1278/lib/python3.6/site-packages (from contextvars<3,>=2.4->thinc<8.1.0,>=8.0.8->spacy<3.2.0,>=3.1.0->en-core-web-sm==3.1.0) (0.15)\n",
      "Requirement already satisfied: click<7.2.0,>=7.1.1 in /home/user/anaconda3/envs/crs1278/lib/python3.6/site-packages (from typer<0.4.0,>=0.3.0->spacy<3.2.0,>=3.1.0->en-core-web-sm==3.1.0) (7.1.2)\n",
      "Requirement already satisfied: MarkupSafe>=2.0 in /home/user/anaconda3/envs/crs1278/lib/python3.6/site-packages (from jinja2->spacy<3.2.0,>=3.1.0->en-core-web-sm==3.1.0) (2.0.1)\n",
      "Installing collected packages: en-core-web-sm\n",
      "Successfully installed en-core-web-sm-3.1.0\n",
      "\u001b[38;5;2m✔ Download and installation successful\u001b[0m\n",
      "You can now load the package via spacy.load('en_core_web_sm')\n"
     ]
    }
   ],
   "source": [
    "# Import spacy and download language model\n",
    "import spacy\n",
    "#nlp = spacy.load(\"en_core_web_sm\")\n",
    "! spacy download en_core_web_trf\n",
    "! spacy download en_core_web_sm"
   ]
  },
  {
   "cell_type": "code",
   "execution_count": 12,
   "id": "e6986f24-4087-4417-b487-69b015b2fbd1",
   "metadata": {},
   "outputs": [],
   "source": [
    "nlp = spacy.load(\"en_core_web_sm\")"
   ]
  },
  {
   "cell_type": "code",
   "execution_count": 13,
   "id": "8996dae1-6ad8-4502-9bb7-5f526bbd362c",
   "metadata": {},
   "outputs": [],
   "source": [
    "# Tokenization\n",
    "sentence = nlp.tokenizer(\"We live in Paris.\")"
   ]
  },
  {
   "cell_type": "code",
   "execution_count": 14,
   "id": "44d265be-e3f5-4c46-bff8-60bcc072096a",
   "metadata": {},
   "outputs": [
    {
     "data": {
      "text/plain": [
       "We live in Paris."
      ]
     },
     "execution_count": 14,
     "metadata": {},
     "output_type": "execute_result"
    }
   ],
   "source": [
    "sentence"
   ]
  },
  {
   "cell_type": "code",
   "execution_count": 15,
   "id": "faca0c89-4a47-4820-a822-2f94a71ee56c",
   "metadata": {},
   "outputs": [
    {
     "name": "stdout",
     "output_type": "stream",
     "text": [
      "The number of tokens:  5\n",
      "The tokens: \n",
      "We\n",
      "live\n",
      "in\n",
      "Paris\n",
      ".\n"
     ]
    }
   ],
   "source": [
    "# Length of sentence\n",
    "print(\"The number of tokens: \", len(sentence))\n",
    "\n",
    "# Print individual words (i.e., tokens)\n",
    "print(\"The tokens: \")\n",
    "for words in sentence:\n",
    "    print(words)"
   ]
  },
  {
   "cell_type": "code",
   "execution_count": 16,
   "id": "7bcfff6e-ea5b-441c-9098-c6c7a7b575a8",
   "metadata": {},
   "outputs": [
    {
     "ename": "ModuleNotFoundError",
     "evalue": "No module named 'pandas'",
     "output_type": "error",
     "traceback": [
      "\u001b[0;31m---------------------------------------------------------------------------\u001b[0m",
      "\u001b[0;31mModuleNotFoundError\u001b[0m                       Traceback (most recent call last)",
      "\u001b[0;32m<ipython-input-16-7dd3504c366f>\u001b[0m in \u001b[0;36m<module>\u001b[0;34m\u001b[0m\n\u001b[0;32m----> 1\u001b[0;31m \u001b[0;32mimport\u001b[0m \u001b[0mpandas\u001b[0m \u001b[0;32mas\u001b[0m \u001b[0mpd\u001b[0m\u001b[0;34m\u001b[0m\u001b[0;34m\u001b[0m\u001b[0m\n\u001b[0m",
      "\u001b[0;31mModuleNotFoundError\u001b[0m: No module named 'pandas'"
     ]
    }
   ],
   "source": [
    "import pandas as pd"
   ]
  },
  {
   "cell_type": "code",
   "execution_count": null,
   "id": "2f7a5245-5642-4dc9-93a1-d9614a8c9e54",
   "metadata": {},
   "outputs": [],
   "source": []
  }
 ],
 "metadata": {
  "kernelspec": {
   "display_name": "Python 3",
   "language": "python",
   "name": "python3"
  },
  "language_info": {
   "codemirror_mode": {
    "name": "ipython",
    "version": 3
   },
   "file_extension": ".py",
   "mimetype": "text/x-python",
   "name": "python",
   "nbconvert_exporter": "python",
   "pygments_lexer": "ipython3",
   "version": "3.6.13"
  }
 },
 "nbformat": 4,
 "nbformat_minor": 5
}
