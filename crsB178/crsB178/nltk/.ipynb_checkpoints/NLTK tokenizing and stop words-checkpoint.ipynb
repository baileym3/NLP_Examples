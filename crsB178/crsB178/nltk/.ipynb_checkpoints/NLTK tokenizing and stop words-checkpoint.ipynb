{
 "cells": [
  {
   "cell_type": "code",
   "execution_count": 5,
   "id": "60ef6173-f355-413d-bab8-32b73127001e",
   "metadata": {},
   "outputs": [],
   "source": [
    "import nltk\n",
    "import numpy as np\n",
    "import pandas as pd"
   ]
  },
  {
   "cell_type": "code",
   "execution_count": 4,
   "id": "ba4f27f7-b9de-45f6-a5f6-f3004417180c",
   "metadata": {},
   "outputs": [
    {
     "name": "stdout",
     "output_type": "stream",
     "text": [
      "showing info https://raw.githubusercontent.com/nltk/nltk_data/gh-pages/index.xml\n"
     ]
    },
    {
     "data": {
      "text/plain": [
       "True"
      ]
     },
     "execution_count": 4,
     "metadata": {},
     "output_type": "execute_result"
    }
   ],
   "source": [
    "nltk.download()"
   ]
  },
  {
   "cell_type": "markdown",
   "id": "00f4795b-f00c-4eb5-849f-07222fb4cbc9",
   "metadata": {},
   "source": [
    "## Tokenizing and Stop Words\n"
   ]
  },
  {
   "cell_type": "code",
   "execution_count": 6,
   "id": "8609a86a-a8e1-49c8-bfa6-3d2163a470e8",
   "metadata": {},
   "outputs": [],
   "source": [
    "sou_file = open(\"/home/user/crs1278/data/Eisenhower_1957.txt\")\n",
    "sou_text = sou_file.read()\n",
    "sou_file.close()"
   ]
  },
  {
   "cell_type": "code",
   "execution_count": 9,
   "id": "29c194e7-d3d8-441d-b0f6-a762dc5eb84b",
   "metadata": {},
   "outputs": [
    {
     "data": {
      "text/plain": [
       "'To the Congress of the United States:\\n\\nI appear before the Congress today to report on the State of the Union and\\nthe relationships of the Union to th'"
      ]
     },
     "execution_count": 9,
     "metadata": {},
     "output_type": "execute_result"
    }
   ],
   "source": [
    "sou_text[:150]"
   ]
  },
  {
   "cell_type": "code",
   "execution_count": 10,
   "id": "a6515e41-594a-4aa1-9b0d-88fe50aab6d8",
   "metadata": {},
   "outputs": [],
   "source": [
    "# Typically we would do this at the top of the notebook but it is here just so the reader\n",
    "# knows where this package is used\n",
    "from nltk.tokenize import word_tokenize, sent_tokenize"
   ]
  },
  {
   "cell_type": "markdown",
   "id": "b141416b-dfc7-46ea-9b70-0def95726ffd",
   "metadata": {},
   "source": [
    "You can use words as the tokens"
   ]
  },
  {
   "cell_type": "code",
   "execution_count": 11,
   "id": "abf11c25-045d-4071-b64a-e6ecf1ebd7e7",
   "metadata": {},
   "outputs": [],
   "source": [
    "sou_word_tokens = word_tokenize(sou_text)"
   ]
  },
  {
   "cell_type": "markdown",
   "id": "45cb2e87-56aa-4e8a-8a70-5eb10333654b",
   "metadata": {},
   "source": [
    "Let's check what kind of structure we get"
   ]
  },
  {
   "cell_type": "code",
   "execution_count": 12,
   "id": "b9c14bb4-9f23-4fcd-a990-e706c7119075",
   "metadata": {},
   "outputs": [
    {
     "data": {
      "text/plain": [
       "list"
      ]
     },
     "execution_count": 12,
     "metadata": {},
     "output_type": "execute_result"
    }
   ],
   "source": [
    "type(sou_word_tokens)"
   ]
  },
  {
   "cell_type": "code",
   "execution_count": 14,
   "id": "dd9d63c9-db8a-4001-aba7-c37508cb9895",
   "metadata": {},
   "outputs": [
    {
     "data": {
      "text/plain": [
       "['To',\n",
       " 'the',\n",
       " 'Congress',\n",
       " 'of',\n",
       " 'the',\n",
       " 'United',\n",
       " 'States',\n",
       " ':',\n",
       " 'I',\n",
       " 'appear',\n",
       " 'before',\n",
       " 'the',\n",
       " 'Congress',\n",
       " 'today',\n",
       " 'to',\n",
       " 'report',\n",
       " 'on',\n",
       " 'the',\n",
       " 'State',\n",
       " 'of',\n",
       " 'the',\n",
       " 'Union',\n",
       " 'and',\n",
       " 'the',\n",
       " 'relationships']"
      ]
     },
     "execution_count": 14,
     "metadata": {},
     "output_type": "execute_result"
    }
   ],
   "source": [
    "sou_word_tokens[:25]"
   ]
  },
  {
   "cell_type": "markdown",
   "id": "bcb415dd-45d6-4f0d-8a15-bffda006f8b9",
   "metadata": {},
   "source": [
    "You could also use sentences as tokens"
   ]
  },
  {
   "cell_type": "code",
   "execution_count": 16,
   "id": "f506679a-4788-4fdd-b164-868cbf34a48e",
   "metadata": {},
   "outputs": [],
   "source": [
    "sou_sent_tokens = sent_tokenize(sou_text)"
   ]
  },
  {
   "cell_type": "code",
   "execution_count": 17,
   "id": "65a776ff-0a74-4654-a73a-b28f1ecb090b",
   "metadata": {},
   "outputs": [
    {
     "data": {
      "text/plain": [
       "['To the Congress of the United States:\\n\\nI appear before the Congress today to report on the State of the Union and\\nthe relationships of the Union to the other nations of the world.',\n",
       " 'I come\\nhere, firmly convinced that at no time in the history of the Republic have\\ncircumstances more emphatically underscored the need, in all echelons of\\ngovernment, for vision and wisdom and resolution.',\n",
       " 'You meet in a season of stress that is testing the fitness of political\\nsystems and the validity of political philosophies.',\n",
       " 'Each stress stems in\\npart from causes peculiar to itself.',\n",
       " 'But every stress is a reflection of a\\nuniversal phenomenon.',\n",
       " 'In the world today, the surging and understandable tide of nationalism is\\nmarked by widespread revulsion and revolt against tyranny, injustice,\\ninequality and poverty.',\n",
       " 'As individuals, joined in a common hunger for\\nfreedom, men and women and even children pit their spirit against guns and\\ntanks.',\n",
       " 'On a larger scale, in an ever more persistent search for the\\nself-respect of authentic sovereignty and the economic base on which\\nnational independence must rest, peoples sever old ties; seek new\\nalliances; experiment--sometimes dangerously--in their struggle to satisfy\\nthese human aspirations.',\n",
       " 'Particularly, in the past year, this tide has changed the pattern of\\nattitudes and thinking among millions.',\n",
       " 'The changes already accomplished\\nforeshadow a world transformed by the spirit of freedom.',\n",
       " 'This is no faint\\nand pious hope.',\n",
       " 'The forces now at work in the minds and hearts of men will\\nnot be spent through many years.',\n",
       " \"In the main, today's expressions of\\nnationalism are, in spirit, echoes of our forefathers' struggle for\\nindependence.\",\n",
       " 'This Republic cannot be aloof to these events heralding a new epoch in the\\naffairs of mankind.',\n",
       " 'Our pledged word, our enlightened self-interest, our character as a Nation\\ncommit us to a high role in world affairs: a role of vigorous leadership,\\nready strength, sympathetic understanding.',\n",
       " 'The State of the Union, at the opening of the 85th Congress continues to\\nvindicate the wisdom of the principles on which this Republic is rounded.',\n",
       " 'Proclaimed in the Constitution of the Nation and in many of our historic\\ndocuments, and rounded in devout religious convictions, these principles\\nenunciate:\\n\\nA vigilant regard for human liberty.',\n",
       " 'A wise concern for human welfare.',\n",
       " 'A ceaseless effort for human progress.',\n",
       " 'Fidelity to these principles, in our relations with other peoples, has won\\nus new friendships and has increased our opportunity for service within the\\nfamily of nations.',\n",
       " 'The appeal of these principles is universal, lighting\\nfires in the souls of men everywhere.',\n",
       " 'We shall continue to uphold them,\\nagainst those who deny them and in counselling with our friends.',\n",
       " 'At home, the application of these principles to the complex problems of our\\nnational life has brought us to an unprecedented peak in our economic\\nprosperity and has exemplified in our way of life the enduring human values\\nof mind and spirit.',\n",
       " 'Through the past four years these principles have guided the legislative\\nprograms submitted by the Administration to the Congress.',\n",
       " 'As we attempt to\\napply them to current events, domestic and foreign, we must take into\\naccount the complex entity that is the United States of America; what\\nendangers it; what can improve it.']"
      ]
     },
     "execution_count": 17,
     "metadata": {},
     "output_type": "execute_result"
    }
   ],
   "source": [
    "sou_sent_tokens[:25]"
   ]
  },
  {
   "cell_type": "markdown",
   "id": "4f4314de-1539-4215-92a9-3896490c2b3b",
   "metadata": {},
   "source": [
    "We shall use the words as tokens"
   ]
  },
  {
   "cell_type": "markdown",
   "id": "dd94b753-7d48-4284-9eb3-4c85b13af233",
   "metadata": {},
   "source": [
    "## Removing the stop words"
   ]
  },
  {
   "cell_type": "code",
   "execution_count": 19,
   "id": "7c4b193f-956e-41af-b34c-dd8623433ea7",
   "metadata": {},
   "outputs": [],
   "source": [
    "from nltk.tokenize import RegexpTokenizer\n",
    "# The r is to make the regular expression a raw string so that you \n",
    "# don't have to escape the slash\n",
    "tokenizer = RegexpTokenizer(r'\\w+')\n",
    "sou_word_tokens = tokenizer.tokenize(str(sou_word_tokens))"
   ]
  },
  {
   "cell_type": "code",
   "execution_count": 21,
   "id": "b5f989a5-998d-4eca-828a-eb4feb78c873",
   "metadata": {},
   "outputs": [
    {
     "data": {
      "text/plain": [
       "['To',\n",
       " 'the',\n",
       " 'Congress',\n",
       " 'of',\n",
       " 'the',\n",
       " 'United',\n",
       " 'States',\n",
       " 'I',\n",
       " 'appear',\n",
       " 'before',\n",
       " 'the',\n",
       " 'Congress',\n",
       " 'today',\n",
       " 'to',\n",
       " 'report',\n",
       " 'on',\n",
       " 'the',\n",
       " 'State',\n",
       " 'of',\n",
       " 'the',\n",
       " 'Union',\n",
       " 'and',\n",
       " 'the',\n",
       " 'relationships',\n",
       " 'of']"
      ]
     },
     "execution_count": 21,
     "metadata": {},
     "output_type": "execute_result"
    }
   ],
   "source": [
    "sou_word_tokens[:25]"
   ]
  },
  {
   "cell_type": "markdown",
   "id": "e1daf5c1-6f5d-408f-ac66-cd11162edb75",
   "metadata": {},
   "source": [
    "Lower case all the tokens"
   ]
  },
  {
   "cell_type": "code",
   "execution_count": 22,
   "id": "52ddc3e4-9cf6-4fb2-9d01-3305970d9a75",
   "metadata": {},
   "outputs": [],
   "source": [
    "sou_word_tokens = [word.lower() for word in sou_word_tokens]"
   ]
  },
  {
   "cell_type": "code",
   "execution_count": 24,
   "id": "3f11a7bb-99de-48a7-86c3-7ee9809c4fe2",
   "metadata": {},
   "outputs": [
    {
     "data": {
      "text/plain": [
       "['to',\n",
       " 'the',\n",
       " 'congress',\n",
       " 'of',\n",
       " 'the',\n",
       " 'united',\n",
       " 'states',\n",
       " 'i',\n",
       " 'appear',\n",
       " 'before',\n",
       " 'the',\n",
       " 'congress',\n",
       " 'today',\n",
       " 'to',\n",
       " 'report',\n",
       " 'on',\n",
       " 'the',\n",
       " 'state',\n",
       " 'of',\n",
       " 'the',\n",
       " 'union',\n",
       " 'and',\n",
       " 'the',\n",
       " 'relationships',\n",
       " 'of']"
      ]
     },
     "execution_count": 24,
     "metadata": {},
     "output_type": "execute_result"
    }
   ],
   "source": [
    "sou_word_tokens[:25]"
   ]
  },
  {
   "cell_type": "markdown",
   "id": "09360fae-51ee-4f0b-9eb5-ade3b03ec494",
   "metadata": {},
   "source": [
    "We remove the stop words"
   ]
  },
  {
   "cell_type": "code",
   "execution_count": 34,
   "id": "0470ef36-0b8a-4f58-a0a9-38b21ad38fbb",
   "metadata": {},
   "outputs": [
    {
     "data": {
      "text/plain": [
       "['i',\n",
       " 'me',\n",
       " 'my',\n",
       " 'myself',\n",
       " 'we',\n",
       " 'our',\n",
       " 'ours',\n",
       " 'ourselves',\n",
       " 'you',\n",
       " \"you're\",\n",
       " \"you've\",\n",
       " \"you'll\",\n",
       " \"you'd\",\n",
       " 'your',\n",
       " 'yours',\n",
       " 'yourself',\n",
       " 'yourselves',\n",
       " 'he',\n",
       " 'him',\n",
       " 'his']"
      ]
     },
     "execution_count": 34,
     "metadata": {},
     "output_type": "execute_result"
    }
   ],
   "source": [
    "from nltk.corpus import stopwords\n",
    "stop_words = stopwords.words('english')\n",
    "stop_words[:20]"
   ]
  },
  {
   "cell_type": "markdown",
   "id": "54712424-2761-4e92-a9a9-c9abf5c12750",
   "metadata": {},
   "source": [
    "Note that the stop words are in lower case"
   ]
  },
  {
   "cell_type": "code",
   "execution_count": 37,
   "id": "aa83e7e0-f65e-46b1-8eeb-51c5c248f410",
   "metadata": {},
   "outputs": [
    {
     "data": {
      "text/plain": [
       "['congress',\n",
       " 'united',\n",
       " 'states',\n",
       " 'appear',\n",
       " 'congress',\n",
       " 'today',\n",
       " 'report',\n",
       " 'state',\n",
       " 'union',\n",
       " 'relationships',\n",
       " 'union',\n",
       " 'nations',\n",
       " 'world',\n",
       " 'come',\n",
       " 'firmly',\n",
       " 'convinced',\n",
       " 'time',\n",
       " 'history',\n",
       " 'republic',\n",
       " 'circumstances']"
      ]
     },
     "execution_count": 37,
     "metadata": {},
     "output_type": "execute_result"
    }
   ],
   "source": [
    "word_tokens = [word for word in sou_word_tokens if word not in stop_words]\n",
    "word_tokens[:20]"
   ]
  },
  {
   "cell_type": "markdown",
   "id": "2b5c75ad-06f1-4c41-ab27-c24fdff19fc0",
   "metadata": {},
   "source": [
    "## Bag of Words and CountVectorizer"
   ]
  },
  {
   "cell_type": "code",
   "execution_count": null,
   "id": "ce777e7d-e35f-4977-9618-6f45867ff0ad",
   "metadata": {},
   "outputs": [],
   "source": []
  },
  {
   "cell_type": "code",
   "execution_count": 55,
   "id": "57d2484a-9238-4fd0-827f-d89e5ea6d0bb",
   "metadata": {},
   "outputs": [],
   "source": [
    "from sklearn.feature_extraction.text import CountVectorizer\n",
    "#c = CountVectorizer(stop_words='english', token_pattern=r'\\w+',max_features=50 )\n",
    "c = CountVectorizer(stop_words='english', token_pattern=r'\\w+')\n"
   ]
  },
  {
   "cell_type": "code",
   "execution_count": 56,
   "id": "87552428-dd08-428e-ac62-0c7aecda933d",
   "metadata": {},
   "outputs": [
    {
     "name": "stdout",
     "output_type": "stream",
     "text": [
      "(187, 1112)\n"
     ]
    }
   ],
   "source": [
    "converted_data = c.fit_transform(sou_sent_tokens).todense()\n",
    "print(converted_data.shape)"
   ]
  },
  {
   "cell_type": "code",
   "execution_count": 57,
   "id": "9fbb56a8-e381-47a4-99e3-8720f06400db",
   "metadata": {},
   "outputs": [
    {
     "data": {
      "text/plain": [
       "matrix([[0, 0, 0, ..., 0, 0, 0],\n",
       "        [0, 0, 0, ..., 0, 0, 0],\n",
       "        [0, 0, 0, ..., 0, 0, 0],\n",
       "        ...,\n",
       "        [0, 0, 0, ..., 0, 0, 0],\n",
       "        [0, 0, 0, ..., 0, 0, 0],\n",
       "        [0, 0, 0, ..., 1, 0, 0]])"
      ]
     },
     "execution_count": 57,
     "metadata": {},
     "output_type": "execute_result"
    }
   ],
   "source": [
    "converted_data"
   ]
  },
  {
   "cell_type": "code",
   "execution_count": 58,
   "id": "5e75337e-6d65-4cf0-bf24-098be08fd1b3",
   "metadata": {},
   "outputs": [
    {
     "data": {
      "text/plain": [
       "['1',\n",
       " '170',\n",
       " '2',\n",
       " '3',\n",
       " '4',\n",
       " '85th',\n",
       " 'able',\n",
       " 'abroad',\n",
       " 'absolute',\n",
       " 'accentuate',\n",
       " 'accomplished',\n",
       " 'account',\n",
       " 'achieve',\n",
       " 'action',\n",
       " 'actions',\n",
       " 'activities',\n",
       " 'adapted',\n",
       " 'additional',\n",
       " 'adequacy',\n",
       " 'adequate',\n",
       " 'administration',\n",
       " 'administrative',\n",
       " 'advance',\n",
       " 'advantages',\n",
       " 'aerial']"
      ]
     },
     "execution_count": 58,
     "metadata": {},
     "output_type": "execute_result"
    }
   ],
   "source": [
    "c.get_feature_names()[:25]"
   ]
  },
  {
   "cell_type": "markdown",
   "id": "c61920d0-6f1f-46c2-8ae3-929cfd7db1fd",
   "metadata": {},
   "source": [
    "This data comes from\n",
    "https://archive.ics.uci.edu/ml/datasets/Spambase"
   ]
  },
  {
   "cell_type": "code",
   "execution_count": null,
   "id": "12bc359b-1e93-427c-abcf-0f959684ec60",
   "metadata": {},
   "outputs": [],
   "source": []
  }
 ],
 "metadata": {
  "kernelspec": {
   "display_name": "Python 3",
   "language": "python",
   "name": "python3"
  },
  "language_info": {
   "codemirror_mode": {
    "name": "ipython",
    "version": 3
   },
   "file_extension": ".py",
   "mimetype": "text/x-python",
   "name": "python",
   "nbconvert_exporter": "python",
   "pygments_lexer": "ipython3",
   "version": "3.6.13"
  }
 },
 "nbformat": 4,
 "nbformat_minor": 5
}
