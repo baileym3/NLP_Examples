{
 "cells": [
  {
   "cell_type": "markdown",
   "id": "66814d2c-084d-4401-a478-bf02d004b9c1",
   "metadata": {},
   "source": [
    "## Hugging Face"
   ]
  },
  {
   "cell_type": "code",
   "execution_count": null,
   "id": "12947547-3516-4ab0-a949-f053ffdd16cc",
   "metadata": {},
   "outputs": [],
   "source": [
    "Natural Language Processing with Transformers Ch1"
   ]
  },
  {
   "cell_type": "code",
   "execution_count": 2,
   "id": "4b532fd1-f615-48e2-9331-8a7231caa43b",
   "metadata": {},
   "outputs": [
    {
     "name": "stdout",
     "output_type": "stream",
     "text": [
      "There are 1128 datasets currently available on the Hub.\n",
      "The first 10 are: ['acronym_identification', 'ade_corpus_v2', 'adversarial_qa', 'aeslc', 'afrikaans_ner_corpus', 'ag_news', 'ai2_arc', 'air_dialogue', 'ajgt_twitter_ar', 'allegro_reviews']\n"
     ]
    }
   ],
   "source": [
    "from datasets import list_datasets\n",
    "\n",
    "datasets = list_datasets()\n",
    "print(f\"There are {len(datasets)} datasets currently available on the Hub.\")\n",
    "print(f\"The first 10 are: {datasets[:10]}\")"
   ]
  },
  {
   "cell_type": "code",
   "execution_count": 3,
   "id": "f825c07f-580d-4e12-9891-351bd3ebc866",
   "metadata": {},
   "outputs": [
    {
     "name": "stdout",
     "output_type": "stream",
     "text": [
      "Description: Emotion is a dataset of English Twitter messages with six basic emotions: anger, fear, joy, love, sadness, and surprise. For more detailed information please refer to the paper. \n",
      "\n",
      "Citation: @inproceedings{saravia-etal-2018-carer,\n",
      "    title = \"{CARER}: Contextualized Affect Representations for Emotion Recognition\",\n",
      "    author = \"Saravia, Elvis  and\n",
      "      Liu, Hsien-Chi Toby  and\n",
      "      Huang, Yen-Hao  and\n",
      "      Wu, Junlin  and\n",
      "      Chen, Yi-Shin\",\n",
      "    booktitle = \"Proceedings of the 2018 Conference on Empirical Methods in Natural Language Processing\",\n"
     ]
    }
   ],
   "source": [
    "metadata = list_datasets(with_details=True)[datasets.index(\"emotion\")]\n",
    "# Show dataset description\n",
    "print(\"Description:\", metadata.description, \"\\n\")\n",
    "# Show first 8 lines of the citation string\n",
    "print(\"Citation:\", \"\\n\".join(metadata.citation.split(\"\\n\")[:8]))"
   ]
  },
  {
   "cell_type": "code",
   "execution_count": 4,
   "id": "5833d03e-e375-4c52-9552-7512b2303136",
   "metadata": {},
   "outputs": [
    {
     "data": {
      "application/vnd.jupyter.widget-view+json": {
       "model_id": "04acf6043d224d7ab63cc1c0bca1e6a3",
       "version_major": 2,
       "version_minor": 0
      },
      "text/plain": [
       "HBox(children=(FloatProgress(value=0.0, description='Downloading', max=1655.0, style=ProgressStyle(description…"
      ]
     },
     "metadata": {},
     "output_type": "display_data"
    },
    {
     "name": "stdout",
     "output_type": "stream",
     "text": [
      "\n"
     ]
    },
    {
     "data": {
      "application/vnd.jupyter.widget-view+json": {
       "model_id": "c8f23c50e53c46dca0daa5c0519908f6",
       "version_major": 2,
       "version_minor": 0
      },
      "text/plain": [
       "HBox(children=(FloatProgress(value=0.0, description='Downloading', max=1611.0, style=ProgressStyle(description…"
      ]
     },
     "metadata": {},
     "output_type": "display_data"
    },
    {
     "name": "stderr",
     "output_type": "stream",
     "text": [
      "Using custom data configuration default\n"
     ]
    },
    {
     "name": "stdout",
     "output_type": "stream",
     "text": [
      "\n",
      "Downloading and preparing dataset emotion/default (download: 1.97 MiB, generated: 2.07 MiB, post-processed: Unknown size, total: 4.05 MiB) to /home/user/.cache/huggingface/datasets/emotion/default/0.0.0/348f63ca8e27b3713b6c04d723efe6d824a56fb3d1449794716c0f0296072705...\n"
     ]
    },
    {
     "data": {
      "application/vnd.jupyter.widget-view+json": {
       "model_id": "ad00a6a2467e4550a40e8bea1b9420c9",
       "version_major": 2,
       "version_minor": 0
      },
      "text/plain": [
       "HBox(children=(FloatProgress(value=0.0, description='Downloading', max=1658616.0, style=ProgressStyle(descript…"
      ]
     },
     "metadata": {},
     "output_type": "display_data"
    },
    {
     "name": "stdout",
     "output_type": "stream",
     "text": [
      "\n"
     ]
    },
    {
     "data": {
      "application/vnd.jupyter.widget-view+json": {
       "model_id": "1afae53c1313445586ab1b812495158e",
       "version_major": 2,
       "version_minor": 0
      },
      "text/plain": [
       "HBox(children=(FloatProgress(value=0.0, description='Downloading', max=204240.0, style=ProgressStyle(descripti…"
      ]
     },
     "metadata": {},
     "output_type": "display_data"
    },
    {
     "name": "stdout",
     "output_type": "stream",
     "text": [
      "\n"
     ]
    },
    {
     "data": {
      "application/vnd.jupyter.widget-view+json": {
       "model_id": "bdbe9165b9f44ff992ec1813b882402e",
       "version_major": 2,
       "version_minor": 0
      },
      "text/plain": [
       "HBox(children=(FloatProgress(value=0.0, description='Downloading', max=206760.0, style=ProgressStyle(descripti…"
      ]
     },
     "metadata": {},
     "output_type": "display_data"
    },
    {
     "name": "stdout",
     "output_type": "stream",
     "text": [
      "\n"
     ]
    },
    {
     "data": {
      "application/vnd.jupyter.widget-view+json": {
       "model_id": "",
       "version_major": 2,
       "version_minor": 0
      },
      "text/plain": [
       "HBox(children=(FloatProgress(value=1.0, bar_style='info', layout=Layout(width='20px'), max=1.0), HTML(value=''…"
      ]
     },
     "metadata": {},
     "output_type": "display_data"
    },
    {
     "data": {
      "application/vnd.jupyter.widget-view+json": {
       "model_id": "",
       "version_major": 2,
       "version_minor": 0
      },
      "text/plain": [
       "HBox(children=(FloatProgress(value=1.0, bar_style='info', layout=Layout(width='20px'), max=1.0), HTML(value=''…"
      ]
     },
     "metadata": {},
     "output_type": "display_data"
    },
    {
     "data": {
      "application/vnd.jupyter.widget-view+json": {
       "model_id": "",
       "version_major": 2,
       "version_minor": 0
      },
      "text/plain": [
       "HBox(children=(FloatProgress(value=1.0, bar_style='info', layout=Layout(width='20px'), max=1.0), HTML(value=''…"
      ]
     },
     "metadata": {},
     "output_type": "display_data"
    },
    {
     "name": "stdout",
     "output_type": "stream",
     "text": [
      "Dataset emotion downloaded and prepared to /home/user/.cache/huggingface/datasets/emotion/default/0.0.0/348f63ca8e27b3713b6c04d723efe6d824a56fb3d1449794716c0f0296072705. Subsequent calls will reuse this data.\n"
     ]
    }
   ],
   "source": [
    "from datasets import load_dataset\n",
    "\n",
    "emotions = load_dataset(\"emotion\")"
   ]
  },
  {
   "cell_type": "code",
   "execution_count": 7,
   "id": "301345f5-0c49-485e-896a-bfb346d37be0",
   "metadata": {},
   "outputs": [
    {
     "data": {
      "text/plain": [
       "datasets.dataset_dict.DatasetDict"
      ]
     },
     "execution_count": 7,
     "metadata": {},
     "output_type": "execute_result"
    }
   ],
   "source": [
    "type(emotions)"
   ]
  },
  {
   "cell_type": "markdown",
   "id": "7f280339-1a7a-40e3-98f1-97c16a2648a2",
   "metadata": {},
   "source": [
    "The DatasetDict is a class type written by Hugging Face."
   ]
  },
  {
   "cell_type": "code",
   "execution_count": 5,
   "id": "4ed08ff0-b77e-4d07-8cfc-b021da685e8d",
   "metadata": {},
   "outputs": [
    {
     "data": {
      "text/plain": [
       "DatasetDict({\n",
       "    train: Dataset({\n",
       "        features: ['text', 'label'],\n",
       "        num_rows: 16000\n",
       "    })\n",
       "    validation: Dataset({\n",
       "        features: ['text', 'label'],\n",
       "        num_rows: 2000\n",
       "    })\n",
       "    test: Dataset({\n",
       "        features: ['text', 'label'],\n",
       "        num_rows: 2000\n",
       "    })\n",
       "})"
      ]
     },
     "execution_count": 5,
     "metadata": {},
     "output_type": "execute_result"
    }
   ],
   "source": [
    "emotions"
   ]
  },
  {
   "cell_type": "markdown",
   "id": "fefd9ff7-41da-429e-85d3-37ccf9cc64d0",
   "metadata": {},
   "source": [
    "The DatasetDict object has attributes train, validation, and test.\n",
    "We examine the train attribute"
   ]
  },
  {
   "cell_type": "code",
   "execution_count": 6,
   "id": "727ce604-7dc8-4d5d-9d57-e60d80a08b02",
   "metadata": {},
   "outputs": [
    {
     "data": {
      "text/plain": [
       "Dataset({\n",
       "    features: ['text', 'label'],\n",
       "    num_rows: 16000\n",
       "})"
      ]
     },
     "execution_count": 6,
     "metadata": {},
     "output_type": "execute_result"
    }
   ],
   "source": [
    "train_ds = emotions[\"train\"]\n",
    "train_ds"
   ]
  },
  {
   "cell_type": "code",
   "execution_count": 8,
   "id": "aa0c6508-83cb-48c2-a19e-727557416005",
   "metadata": {},
   "outputs": [
    {
     "data": {
      "text/plain": [
       "datasets.arrow_dataset.Dataset"
      ]
     },
     "execution_count": 8,
     "metadata": {},
     "output_type": "execute_result"
    }
   ],
   "source": [
    "type(train_ds)"
   ]
  },
  {
   "cell_type": "markdown",
   "id": "11719922-b49f-4cb0-b1a8-1ad824e4b09a",
   "metadata": {},
   "source": [
    "The Dataset act like a Python container. We can use the len() method to get \n",
    "the length and get an item using indexing with square brackets"
   ]
  },
  {
   "cell_type": "code",
   "execution_count": 10,
   "id": "231a3766-7bd5-48a8-b64d-075eca687569",
   "metadata": {},
   "outputs": [
    {
     "data": {
      "text/plain": [
       "16000"
      ]
     },
     "execution_count": 10,
     "metadata": {},
     "output_type": "execute_result"
    }
   ],
   "source": [
    "len(train_ds)"
   ]
  },
  {
   "cell_type": "code",
   "execution_count": 11,
   "id": "aa1d8d95-95b9-4004-94df-04138fc673bb",
   "metadata": {},
   "outputs": [
    {
     "data": {
      "text/plain": [
       "{'text': 'i didnt feel humiliated', 'label': 0}"
      ]
     },
     "execution_count": 11,
     "metadata": {},
     "output_type": "execute_result"
    }
   ],
   "source": [
    "train_ds[0]"
   ]
  },
  {
   "cell_type": "markdown",
   "id": "4813db8b-45b5-400d-8720-37c33b55f267",
   "metadata": {},
   "source": [
    " We can find out the types being used by accessing the features attributes of a Dataset"
   ]
  },
  {
   "cell_type": "code",
   "execution_count": 12,
   "id": "73046aea-747f-4e2b-95a6-cb35266532aa",
   "metadata": {},
   "outputs": [
    {
     "data": {
      "text/plain": [
       "{'text': Value(dtype='string', id=None),\n",
       " 'label': ClassLabel(num_classes=6, names=['sadness', 'joy', 'love', 'anger', 'fear', 'surprise'], names_file=None, id=None)}"
      ]
     },
     "execution_count": 12,
     "metadata": {},
     "output_type": "execute_result"
    }
   ],
   "source": [
    "train_ds.features"
   ]
  },
  {
   "cell_type": "markdown",
   "id": "d416fdd4-1f0e-42f9-9f13-b80242a79c24",
   "metadata": {},
   "source": [
    " You can use standard Python slicing"
   ]
  },
  {
   "cell_type": "code",
   "execution_count": 13,
   "id": "a76efebc-9d03-4cdc-ade5-76566d0501b7",
   "metadata": {},
   "outputs": [
    {
     "data": {
      "text/plain": [
       "OrderedDict([('text',\n",
       "              ['ive been feeling a little burdened lately wasnt sure why that was',\n",
       "               'ive been taking or milligrams or times recommended amount and ive fallen asleep a lot faster but i also feel like so funny',\n",
       "               'i feel as confused about life as a teenager or as jaded as a year old man',\n",
       "               'i have been with petronas for years i feel that petronas has performed well and made a huge profit',\n",
       "               'i feel romantic too']),\n",
       "             ('label', [0, 5, 4, 1, 2])])"
      ]
     },
     "execution_count": 13,
     "metadata": {},
     "output_type": "execute_result"
    }
   ],
   "source": [
    "train_ds[5:10]"
   ]
  },
  {
   "cell_type": "code",
   "execution_count": 14,
   "id": "0286d09b-6825-453a-8996-3465b8cabc77",
   "metadata": {},
   "outputs": [
    {
     "data": {
      "text/plain": [
       "['i feel like i have to make the suffering i m seeing mean something',\n",
       " 'i do feel that running is a divine experience and that i can expect to have some type of spiritual encounter',\n",
       " 'i think it s the easiest time of year to feel dissatisfied',\n",
       " 'i feel low energy i m just thirsty',\n",
       " 'i have immense sympathy with the general point but as a possible proto writer trying to find time to write in the corners of life and with no sign of an agent let alone a publishing contract this feels a little precious']"
      ]
     },
     "execution_count": 14,
     "metadata": {},
     "output_type": "execute_result"
    }
   ],
   "source": [
    "train_ds[\"text\"][10:15]"
   ]
  },
  {
   "cell_type": "markdown",
   "id": "eafedcf5-4ec1-477d-b4f2-443268ece7b1",
   "metadata": {},
   "source": [
    "## Converting a Dataset to a pandas DataFrame\n",
    "The pandas Dataframe has more low level functions"
   ]
  },
  {
   "cell_type": "code",
   "execution_count": 16,
   "id": "7b16a1c5-d0bd-4818-9c62-7b48b799c8f9",
   "metadata": {},
   "outputs": [
    {
     "data": {
      "text/html": [
       "<div>\n",
       "<style scoped>\n",
       "    .dataframe tbody tr th:only-of-type {\n",
       "        vertical-align: middle;\n",
       "    }\n",
       "\n",
       "    .dataframe tbody tr th {\n",
       "        vertical-align: top;\n",
       "    }\n",
       "\n",
       "    .dataframe thead th {\n",
       "        text-align: right;\n",
       "    }\n",
       "</style>\n",
       "<table border=\"1\" class=\"dataframe\">\n",
       "  <thead>\n",
       "    <tr style=\"text-align: right;\">\n",
       "      <th></th>\n",
       "      <th>text</th>\n",
       "      <th>label</th>\n",
       "    </tr>\n",
       "  </thead>\n",
       "  <tbody>\n",
       "    <tr>\n",
       "      <th>0</th>\n",
       "      <td>i didnt feel humiliated</td>\n",
       "      <td>0</td>\n",
       "    </tr>\n",
       "    <tr>\n",
       "      <th>1</th>\n",
       "      <td>i can go from feeling so hopeless to so damned...</td>\n",
       "      <td>0</td>\n",
       "    </tr>\n",
       "    <tr>\n",
       "      <th>2</th>\n",
       "      <td>im grabbing a minute to post i feel greedy wrong</td>\n",
       "      <td>3</td>\n",
       "    </tr>\n",
       "    <tr>\n",
       "      <th>3</th>\n",
       "      <td>i am ever feeling nostalgic about the fireplac...</td>\n",
       "      <td>2</td>\n",
       "    </tr>\n",
       "    <tr>\n",
       "      <th>4</th>\n",
       "      <td>i am feeling grouchy</td>\n",
       "      <td>3</td>\n",
       "    </tr>\n",
       "  </tbody>\n",
       "</table>\n",
       "</div>"
      ],
      "text/plain": [
       "                                                text  label\n",
       "0                            i didnt feel humiliated      0\n",
       "1  i can go from feeling so hopeless to so damned...      0\n",
       "2   im grabbing a minute to post i feel greedy wrong      3\n",
       "3  i am ever feeling nostalgic about the fireplac...      2\n",
       "4                               i am feeling grouchy      3"
      ]
     },
     "execution_count": 16,
     "metadata": {},
     "output_type": "execute_result"
    }
   ],
   "source": [
    "import pandas as pd\n",
    "\n",
    "emotions.set_format(type=\"pandas\")\n",
    "df = emotions[\"train\"][:]\n",
    "#display_df(df.head(), index=None)\n",
    "df.head()"
   ]
  },
  {
   "cell_type": "markdown",
   "id": "d4d8f611-5864-4f84-9389-b9b181bc7ff1",
   "metadata": {},
   "source": [
    "Interpret the labels in terms of emotions"
   ]
  },
  {
   "cell_type": "code",
   "execution_count": 23,
   "id": "91e750d5-eeef-4556-91ad-73d86b0027ed",
   "metadata": {},
   "outputs": [
    {
     "data": {
      "text/plain": [
       "'sadness'"
      ]
     },
     "execution_count": 23,
     "metadata": {},
     "output_type": "execute_result"
    }
   ],
   "source": [
    "emotions[\"train\"].features[\"label\"].int2str(0)"
   ]
  },
  {
   "cell_type": "code",
   "execution_count": 24,
   "id": "983597ad-f565-4d15-b297-9cc3c85f9c30",
   "metadata": {},
   "outputs": [],
   "source": [
    "def label_int2str(row, split):\n",
    "    return emotions[split].features[\"label\"].int2str(row)"
   ]
  },
  {
   "cell_type": "code",
   "execution_count": 25,
   "id": "1fa3fc35-d766-4daf-af27-f3148da3bdcd",
   "metadata": {},
   "outputs": [
    {
     "data": {
      "text/html": [
       "<div>\n",
       "<style scoped>\n",
       "    .dataframe tbody tr th:only-of-type {\n",
       "        vertical-align: middle;\n",
       "    }\n",
       "\n",
       "    .dataframe tbody tr th {\n",
       "        vertical-align: top;\n",
       "    }\n",
       "\n",
       "    .dataframe thead th {\n",
       "        text-align: right;\n",
       "    }\n",
       "</style>\n",
       "<table border=\"1\" class=\"dataframe\">\n",
       "  <thead>\n",
       "    <tr style=\"text-align: right;\">\n",
       "      <th></th>\n",
       "      <th>text</th>\n",
       "      <th>label</th>\n",
       "      <th>label_name</th>\n",
       "    </tr>\n",
       "  </thead>\n",
       "  <tbody>\n",
       "    <tr>\n",
       "      <th>0</th>\n",
       "      <td>i didnt feel humiliated</td>\n",
       "      <td>0</td>\n",
       "      <td>sadness</td>\n",
       "    </tr>\n",
       "    <tr>\n",
       "      <th>1</th>\n",
       "      <td>i can go from feeling so hopeless to so damned...</td>\n",
       "      <td>0</td>\n",
       "      <td>sadness</td>\n",
       "    </tr>\n",
       "    <tr>\n",
       "      <th>2</th>\n",
       "      <td>im grabbing a minute to post i feel greedy wrong</td>\n",
       "      <td>3</td>\n",
       "      <td>anger</td>\n",
       "    </tr>\n",
       "    <tr>\n",
       "      <th>3</th>\n",
       "      <td>i am ever feeling nostalgic about the fireplac...</td>\n",
       "      <td>2</td>\n",
       "      <td>love</td>\n",
       "    </tr>\n",
       "    <tr>\n",
       "      <th>4</th>\n",
       "      <td>i am feeling grouchy</td>\n",
       "      <td>3</td>\n",
       "      <td>anger</td>\n",
       "    </tr>\n",
       "  </tbody>\n",
       "</table>\n",
       "</div>"
      ],
      "text/plain": [
       "                                                text  label label_name\n",
       "0                            i didnt feel humiliated      0    sadness\n",
       "1  i can go from feeling so hopeless to so damned...      0    sadness\n",
       "2   im grabbing a minute to post i feel greedy wrong      3      anger\n",
       "3  i am ever feeling nostalgic about the fireplac...      2       love\n",
       "4                               i am feeling grouchy      3      anger"
      ]
     },
     "execution_count": 25,
     "metadata": {},
     "output_type": "execute_result"
    }
   ],
   "source": [
    "df[\"label_name\"] = df[\"label\"].apply(label_int2str, split=\"train\")\n",
    "df.head()"
   ]
  },
  {
   "cell_type": "code",
   "execution_count": null,
   "id": "4cea75dd-3f9a-4d6d-a9df-5ac10ec4e89c",
   "metadata": {},
   "outputs": [],
   "source": [
    "# Examine the distribution of the labels"
   ]
  },
  {
   "cell_type": "code",
   "execution_count": 27,
   "id": "cb04a0ed-1b5d-4073-bf79-eeee8f1b425c",
   "metadata": {},
   "outputs": [
    {
     "data": {
      "image/png": "[encoded data removed]",
      "text/plain": [
       "<Figure size 432x288 with 1 Axes>"
      ]
     },
     "metadata": {
      "needs_background": "light"
     },
     "output_type": "display_data"
    }
   ],
   "source": [
    "import matplotlib.pyplot as plt\n",
    "\n",
    "df[\"label_name\"].value_counts(ascending=True).plot.barh()\n",
    "plt.title(\"Category Counts\");"
   ]
  },
  {
   "cell_type": "markdown",
   "id": "e6549e74-b537-4bde-babb-46dea4f4c257",
   "metadata": {},
   "source": [
    " The data is skewed. In a real life situation we would consider oversampling the smaller groups.\n",
    " We check the number of tokens in each sentence (token). BERT takes a maximum of 512 tokens and longer text is truncated possibly losing information."
   ]
  },
  {
   "cell_type": "code",
   "execution_count": 33,
   "id": "b4c6ebb2-0c5d-42e6-9a99-48384d4e500a",
   "metadata": {},
   "outputs": [
    {
     "data": {
      "text/plain": [
       "{'whiskers': [<matplotlib.lines.Line2D at 0x7f9031e586d8>,\n",
       "  <matplotlib.lines.Line2D at 0x7f9032545390>],\n",
       " 'caps': [<matplotlib.lines.Line2D at 0x7f9031e5a160>,\n",
       "  <matplotlib.lines.Line2D at 0x7f9031aa85c0>],\n",
       " 'boxes': [<matplotlib.lines.Line2D at 0x7f9031b81a90>],\n",
       " 'medians': [<matplotlib.lines.Line2D at 0x7f903257d9e8>],\n",
       " 'fliers': [<matplotlib.lines.Line2D at 0x7f9031e85f60>],\n",
       " 'means': []}"
      ]
     },
     "execution_count": 33,
     "metadata": {},
     "output_type": "execute_result"
    },
    {
     "data": {
      "image/png": "[encoded data removed]",
      "text/plain": [
       "<Figure size 432x288 with 1 Axes>"
      ]
     },
     "metadata": {
      "needs_background": "light"
     },
     "output_type": "display_data"
    }
   ],
   "source": [
    "df[\"Words Per Tweet\"] = df[\"text\"].str.split().apply(len)\n",
    "#df[\"Words Per Tweet\"]\n",
    "#df.boxplot(\"Words Per Tweet\", by='label_name', grid=False, showfliers=False,\n",
    "#           color='black', )\n",
    "plt.boxplot(df[\"Words Per Tweet\"])\n",
    "#plt.suptitle(\"\")\n",
    "#plt.xlabel(\"\");"
   ]
  },
  {
   "cell_type": "markdown",
   "id": "1aca15f3-d5a3-4ff1-ae27-61f56dfb8c44",
   "metadata": {},
   "source": [
    "The median is around 15 and they are all well under 512 tokens long"
   ]
  },
  {
   "cell_type": "markdown",
   "id": "099fe83a-1481-449c-975b-47701961229a",
   "metadata": {},
   "source": [
    "## Tokenization"
   ]
  },
  {
   "cell_type": "code",
   "execution_count": 39,
   "id": "10a3ff83-00d5-495b-98d4-9888302ccabd",
   "metadata": {},
   "outputs": [
    {
     "name": "stdout",
     "output_type": "stream",
     "text": [
      "['T', 'o', 'k', 'e', 'n', 'i', 'z', 'i', 'n', 'g', ' ', 't', 'e', 'x', 't', ' ', 'i', 's', ' ', 'a', ' ', 'c', 'o', 'r', 'e', ' ', 't', 'a', 's', 'k', ' ', 'o', 'f', ' ', 'N', 'L', 'P', '.']\n",
      "length of tokenized text is  38\n"
     ]
    }
   ],
   "source": [
    "#Character tokenization\n",
    "text = \"Tokenizing text is a core task of NLP.\"\n",
    "tokenized_text = list(text)\n",
    "print(tokenized_text)\n",
    "print(\"Length of tokenized text is \", len(tokenized_text))"
   ]
  },
  {
   "cell_type": "code",
   "execution_count": 40,
   "id": "216f8e2a-8112-4e12-be3b-a95fcf0db87b",
   "metadata": {},
   "outputs": [
    {
     "name": "stdout",
     "output_type": "stream",
     "text": [
      "{'i': 0, 'o': 1, 's': 2, 'T': 3, '.': 4, 'f': 5, 'e': 6, 'g': 7, 'L': 8, 'c': 9, 'N': 10, 'k': 11, 't': 12, 'x': 13, 'a': 14, 'z': 15, 'r': 16, 'P': 17, 'n': 18, ' ': 19}\n",
      "Number of unique tokens is  20\n"
     ]
    }
   ],
   "source": [
    "# Character numericalization:\n",
    "token2idx = {}\n",
    "for idx, unique_char in enumerate(set(tokenized_text)):\n",
    "    token2idx[unique_char] = idx\n",
    "print(token2idx)\n",
    "print(\"Number of unique tokens is \",len(token2idx))"
   ]
  },
  {
   "cell_type": "code",
   "execution_count": 36,
   "id": "c344c061-1f52-40ec-9670-6f5a8509b19f",
   "metadata": {},
   "outputs": [
    {
     "name": "stdout",
     "output_type": "stream",
     "text": [
      "[3, 1, 11, 6, 18, 0, 15, 0, 18, 7, 19, 12, 6, 13, 12, 19, 0, 2, 19, 14, 19, 9, 1, 16, 6, 19, 12, 14, 2, 11, 19, 1, 5, 19, 10, 8, 17, 4]\n"
     ]
    }
   ],
   "source": [
    "# Transform the tokenized text to a list of integers\n",
    "input_ids = [token2idx[token] for token in tokenized_text]\n",
    "print(input_ids)"
   ]
  },
  {
   "cell_type": "code",
   "execution_count": 37,
   "id": "1cabac11-c864-458c-92fb-8f2e0af7ecec",
   "metadata": {},
   "outputs": [
    {
     "data": {
      "text/plain": [
       "torch.Size([38, 20])"
      ]
     },
     "execution_count": 37,
     "metadata": {},
     "output_type": "execute_result"
    }
   ],
   "source": [
    "#Convert the input_ids to a 2D tensor of one-hot vectors. Each vector will be the length of the vocabulary\n",
    "import torch\n",
    "\n",
    "input_ids = torch.tensor(input_ids)\n",
    "one_hot_encodings = torch.nn.functional.one_hot(input_ids)\n",
    "one_hot_encodings.shape"
   ]
  },
  {
   "cell_type": "code",
   "execution_count": 41,
   "id": "36c0fdfc-e1d9-4ff3-ae1d-06ec74601335",
   "metadata": {},
   "outputs": [
    {
     "name": "stdout",
     "output_type": "stream",
     "text": [
      "Token: T\n",
      "Tensor index: 3\n",
      "One-hot vector: tensor([0, 0, 0, 1, 0, 0, 0, 0, 0, 0, 0, 0, 0, 0, 0, 0, 0, 0, 0, 0])\n"
     ]
    }
   ],
   "source": [
    "#Sanity check:\n",
    "print(f\"Token: {tokenized_text[0]}\")\n",
    "print(f\"Tensor index: {input_ids[0]}\")\n",
    "print(f\"One-hot vector: {one_hot_encodings[0]}\")"
   ]
  },
  {
   "cell_type": "markdown",
   "id": "c68311df-765e-4461-9947-3323d3ba6387",
   "metadata": {},
   "source": [
    "## Word tokenization by simple splitting at spaces"
   ]
  },
  {
   "cell_type": "code",
   "execution_count": 42,
   "id": "a64fa3d9-0581-4ffd-9b76-5e3c510db096",
   "metadata": {},
   "outputs": [
    {
     "name": "stdout",
     "output_type": "stream",
     "text": [
      "['Tokenizing', 'text', 'is', 'a', 'core', 'task', 'of', 'NLP.']\n"
     ]
    }
   ],
   "source": [
    "tokenized_text = text.split()\n",
    "print(tokenized_text)"
   ]
  },
  {
   "cell_type": "markdown",
   "id": "484b3041-1cfc-47c0-abf1-129cace8b881",
   "metadata": {},
   "source": [
    "## Subword tokenizing"
   ]
  },
  {
   "cell_type": "code",
   "execution_count": 43,
   "id": "e9cdec11-68f2-4108-ad81-511d7df93c39",
   "metadata": {},
   "outputs": [
    {
     "data": {
      "application/vnd.jupyter.widget-view+json": {
       "model_id": "0584b9f91bd9445fb64876abbc204afa",
       "version_major": 2,
       "version_minor": 0
      },
      "text/plain": [
       "HBox(children=(FloatProgress(value=0.0, description='Downloading', max=442.0, style=ProgressStyle(description_…"
      ]
     },
     "metadata": {},
     "output_type": "display_data"
    },
    {
     "name": "stdout",
     "output_type": "stream",
     "text": [
      "\n"
     ]
    },
    {
     "data": {
      "application/vnd.jupyter.widget-view+json": {
       "model_id": "bb904824c8034173bcef35871f91b9e7",
       "version_major": 2,
       "version_minor": 0
      },
      "text/plain": [
       "HBox(children=(FloatProgress(value=0.0, description='Downloading', max=231508.0, style=ProgressStyle(descripti…"
      ]
     },
     "metadata": {},
     "output_type": "display_data"
    },
    {
     "name": "stdout",
     "output_type": "stream",
     "text": [
      "\n"
     ]
    },
    {
     "data": {
      "application/vnd.jupyter.widget-view+json": {
       "model_id": "674356ebaebd49d79c7d7ed501c3538b",
       "version_major": 2,
       "version_minor": 0
      },
      "text/plain": [
       "HBox(children=(FloatProgress(value=0.0, description='Downloading', max=466062.0, style=ProgressStyle(descripti…"
      ]
     },
     "metadata": {},
     "output_type": "display_data"
    },
    {
     "name": "stdout",
     "output_type": "stream",
     "text": [
      "\n"
     ]
    },
    {
     "data": {
      "application/vnd.jupyter.widget-view+json": {
       "model_id": "eff3002adc8a4fce97fa43960156b41a",
       "version_major": 2,
       "version_minor": 0
      },
      "text/plain": [
       "HBox(children=(FloatProgress(value=0.0, description='Downloading', max=28.0, style=ProgressStyle(description_w…"
      ]
     },
     "metadata": {},
     "output_type": "display_data"
    },
    {
     "name": "stdout",
     "output_type": "stream",
     "text": [
      "\n"
     ]
    }
   ],
   "source": [
    "from transformers import AutoTokenizer\n",
    "\n",
    "model_name = \"distilbert-base-uncased\"\n",
    "tokenizer = AutoTokenizer.from_pretrained(model_name)"
   ]
  },
  {
   "cell_type": "code",
   "execution_count": 45,
   "id": "3498f161-d93d-4365-99e1-e86418d4b99d",
   "metadata": {},
   "outputs": [
    {
     "data": {
      "text/plain": [
       "30522"
      ]
     },
     "execution_count": 45,
     "metadata": {},
     "output_type": "execute_result"
    }
   ],
   "source": [
    "tokenizer.vocab_size"
   ]
  },
  {
   "cell_type": "code",
   "execution_count": 46,
   "id": "f86c58e5-80ba-4f52-b005-ce05b2e47368",
   "metadata": {},
   "outputs": [
    {
     "data": {
      "text/plain": [
       "{'unk_token': '[UNK]',\n",
       " 'sep_token': '[SEP]',\n",
       " 'pad_token': '[PAD]',\n",
       " 'cls_token': '[CLS]',\n",
       " 'mask_token': '[MASK]'}"
      ]
     },
     "execution_count": 46,
     "metadata": {},
     "output_type": "execute_result"
    }
   ],
   "source": [
    "# The tokenizer has some special tokens:\n",
    "tokenizer.special_tokens_map"
   ]
  },
  {
   "cell_type": "code",
   "execution_count": 47,
   "id": "89468316-03b1-4a20-9a04-c731c5501f87",
   "metadata": {},
   "outputs": [
    {
     "data": {
      "text/plain": [
       "[101, 2023, 2003, 1037, 8552, 22199, 102]"
      ]
     },
     "execution_count": 47,
     "metadata": {},
     "output_type": "execute_result"
    }
   ],
   "source": [
    "# We tokenize a short sentence\n",
    "encoded_str = tokenizer.encode(\"this is a complicatedtest\")\n",
    "encoded_str"
   ]
  },
  {
   "cell_type": "code",
   "execution_count": 48,
   "id": "50dd303d-73a1-45c4-8abf-d87621255228",
   "metadata": {},
   "outputs": [
    {
     "name": "stdout",
     "output_type": "stream",
     "text": [
      "101 [CLS]\n",
      "2023 this\n",
      "2003 is\n",
      "1037 a\n",
      "8552 complicated\n",
      "22199 ##test\n",
      "102 [SEP]\n"
     ]
    }
   ],
   "source": [
    "for token in encoded_str:\n",
    "    print(token, tokenizer.decode([token]))"
   ]
  },
  {
   "cell_type": "code",
   "execution_count": null,
   "id": "b25a9ec0-9490-4648-8302-fc142cbefd18",
   "metadata": {},
   "outputs": [],
   "source": []
  }
 ],
 "metadata": {
  "kernelspec": {
   "display_name": "Python 3",
   "language": "python",
   "name": "python3"
  },
  "language_info": {
   "codemirror_mode": {
    "name": "ipython",
    "version": 3
   },
   "file_extension": ".py",
   "mimetype": "text/x-python",
   "name": "python",
   "nbconvert_exporter": "python",
   "pygments_lexer": "ipython3",
   "version": "3.6.13"
  }
 },
 "nbformat": 4,
 "nbformat_minor": 5
}
