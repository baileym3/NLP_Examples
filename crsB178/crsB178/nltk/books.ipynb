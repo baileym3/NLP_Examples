{
 "cells": [
  {
   "cell_type": "markdown",
   "id": "f903d5de-e376-43a4-b81a-46c577f04b7a",
   "metadata": {},
   "source": [
    "From http://www.nltk.org/book/ch01.html"
   ]
  },
  {
   "cell_type": "code",
   "execution_count": 1,
   "id": "72efff94-f0fc-489b-acff-a01d9ac073c4",
   "metadata": {},
   "outputs": [],
   "source": [
    "import nltk"
   ]
  },
  {
   "cell_type": "code",
   "execution_count": 3,
   "id": "e1f5bbb9-7ed4-4022-81ad-531c18d74422",
   "metadata": {},
   "outputs": [
    {
     "name": "stdout",
     "output_type": "stream",
     "text": [
      "*** Introductory Examples for the NLTK Book ***\n",
      "Loading text1, ..., text9 and sent1, ..., sent9\n",
      "Type the name of the text or sentence to view it.\n",
      "Type: 'texts()' or 'sents()' to list the materials.\n",
      "text1: Moby Dick by Herman Melville 1851\n",
      "text2: Sense and Sensibility by Jane Austen 1811\n",
      "text3: The Book of Genesis\n",
      "text4: Inaugural Address Corpus\n",
      "text5: Chat Corpus\n",
      "text6: Monty Python and the Holy Grail\n",
      "text7: Wall Street Journal\n",
      "text8: Personals Corpus\n",
      "text9: The Man Who Was Thursday by G . K . Chesterton 1908\n"
     ]
    }
   ],
   "source": [
    "# NLTK has datasets of material from famous books\n",
    "from nltk.book import *"
   ]
  },
  {
   "cell_type": "code",
   "execution_count": 5,
   "id": "74925285-8b6f-4397-a800-bc23db638947",
   "metadata": {},
   "outputs": [
    {
     "name": "stdout",
     "output_type": "stream",
     "text": [
      "Displaying 12 of 12 matches:\n",
      "hat hopeless , sallow tribe which no wine of this world will ever warm ; and f\n",
      "Canaan ; a land , also , of corn and wine . The streets do not run with milk ;\n",
      " , for replenished with the meat and wine of the word , to the faithful man of\n",
      " ' s rim , the warm waves blush like wine . The gold brow plumbs the blue . Th\n",
      "t . I mark this in our old Mogul ' s wine ; it ' s quite as deadening to some \n",
      "f it had been the purple lees of red wine , shot into the frighted air ; and f\n",
      "rtal Fourth ; all fountains must run wine today ! Would now , it were old Orle\n",
      " . \" He wants you to take a glass of wine with him ,\" said the interpreter . \"\n",
      "ied to St . Peter ' s in Rome . Some wine merchants drop a few grains into cla\n",
      "lence , like fully ripe grapes their wine ; as I snuffed up that uncontaminate\n",
      "gger of ditches , canals and wells , wine - vaults , cellars , and cisterns of\n",
      "worked them bubblingly up , like old wine worked anew . Whatever pale fears an\n"
     ]
    }
   ],
   "source": [
    "# Search:\n",
    "text1.concordance(\"wine\")"
   ]
  },
  {
   "cell_type": "code",
   "execution_count": 12,
   "id": "28005299-a4db-4c49-a206-ad9464cf1d16",
   "metadata": {},
   "outputs": [
    {
     "name": "stderr",
     "output_type": "stream",
     "text": [
      "Building ngram index...\n"
     ]
    },
    {
     "name": "stdout",
     "output_type": "stream",
     "text": [
      "laid by her , and said unto Cain , Where art thou , and said , Go to ,\n",
      "I will not do it for ten ' s sons ; we dreamed each man according to\n",
      "their generatio the firstborn said unto Laban , Because I said , Nay ,\n",
      "but Sarah shall her name be . , duke Elah , duke Shobal , and Akan .\n",
      "and looked upon my affliction . Bashemath Ishmael ' s blood , but Isra\n",
      "for as a prince hast thou found of all the cattle in the valley , and\n",
      "the wo The\n"
     ]
    },
    {
     "data": {
      "text/plain": [
       "\"laid by her , and said unto Cain , Where art thou , and said , Go to ,\\nI will not do it for ten ' s sons ; we dreamed each man according to\\ntheir generatio the firstborn said unto Laban , Because I said , Nay ,\\nbut Sarah shall her name be . , duke Elah , duke Shobal , and Akan .\\nand looked upon my affliction . Bashemath Ishmael ' s blood , but Isra\\nfor as a prince hast thou found of all the cattle in the valley , and\\nthe wo The\""
      ]
     },
     "execution_count": 12,
     "metadata": {},
     "output_type": "execute_result"
    }
   ],
   "source": [
    "text3.generate()"
   ]
  },
  {
   "cell_type": "code",
   "execution_count": 14,
   "id": "df5b4a7a-bb9d-4cab-940d-bd5858a030b8",
   "metadata": {},
   "outputs": [
    {
     "name": "stdout",
     "output_type": "stream",
     "text": [
      "Sperm Whale; Moby Dick; White Whale; old man; Captain Ahab; sperm\n",
      "whale; Right Whale; Captain Peleg; New Bedford; Cape Horn; cried Ahab;\n",
      "years ago; lower jaw; never mind; Father Mapple; cried Stubb; chief\n",
      "mate; white whale; ivory leg; one hand\n"
     ]
    }
   ],
   "source": [
    "text1.collocations()"
   ]
  },
  {
   "cell_type": "code",
   "execution_count": null,
   "id": "73245f99-aed6-4676-97b9-57a0190073f8",
   "metadata": {},
   "outputs": [],
   "source": []
  }
 ],
 "metadata": {
  "kernelspec": {
   "display_name": "Python 3",
   "language": "python",
   "name": "python3"
  },
  "language_info": {
   "codemirror_mode": {
    "name": "ipython",
    "version": 3
   },
   "file_extension": ".py",
   "mimetype": "text/x-python",
   "name": "python",
   "nbconvert_exporter": "python",
   "pygments_lexer": "ipython3",
   "version": "3.8.8"
  }
 },
 "nbformat": 4,
 "nbformat_minor": 5
}
